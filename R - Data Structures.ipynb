{
 "cells": [
  {
   "cell_type": "code",
   "execution_count": 104,
   "id": "cc489bc3-96ec-4be4-9c6b-69ee6b0d824e",
   "metadata": {},
   "outputs": [
    {
     "data": {
      "text/html": [
       "'Vector 1'"
      ],
      "text/latex": [
       "'Vector 1'"
      ],
      "text/markdown": [
       "'Vector 1'"
      ],
      "text/plain": [
       "[1] \"Vector 1\""
      ]
     },
     "metadata": {},
     "output_type": "display_data"
    },
    {
     "data": {
      "text/html": [
       "<ol class=list-inline>\n",
       "\t<li>'Apple'</li>\n",
       "\t<li>'Banana'</li>\n",
       "\t<li>'Cherry'</li>\n",
       "</ol>\n"
      ],
      "text/latex": [
       "\\begin{enumerate*}\n",
       "\\item 'Apple'\n",
       "\\item 'Banana'\n",
       "\\item 'Cherry'\n",
       "\\end{enumerate*}\n"
      ],
      "text/markdown": [
       "1. 'Apple'\n",
       "2. 'Banana'\n",
       "3. 'Cherry'\n",
       "\n",
       "\n"
      ],
      "text/plain": [
       "[1] \"Apple\"  \"Banana\" \"Cherry\""
      ]
     },
     "metadata": {},
     "output_type": "display_data"
    },
    {
     "data": {
      "text/html": [
       "'Vector 2'"
      ],
      "text/latex": [
       "'Vector 2'"
      ],
      "text/markdown": [
       "'Vector 2'"
      ],
      "text/plain": [
       "[1] \"Vector 2\""
      ]
     },
     "metadata": {},
     "output_type": "display_data"
    },
    {
     "data": {
      "text/html": [
       "<ol class=list-inline>\n",
       "\t<li>14</li>\n",
       "\t<li>12</li>\n",
       "\t<li>15.2</li>\n",
       "</ol>\n"
      ],
      "text/latex": [
       "\\begin{enumerate*}\n",
       "\\item 14\n",
       "\\item 12\n",
       "\\item 15.2\n",
       "\\end{enumerate*}\n"
      ],
      "text/markdown": [
       "1. 14\n",
       "2. 12\n",
       "3. 15.2\n",
       "\n",
       "\n"
      ],
      "text/plain": [
       "[1] 14.0 12.0 15.2"
      ]
     },
     "metadata": {},
     "output_type": "display_data"
    },
    {
     "data": {
      "text/html": [
       "'Vector 3'"
      ],
      "text/latex": [
       "'Vector 3'"
      ],
      "text/markdown": [
       "'Vector 3'"
      ],
      "text/plain": [
       "[1] \"Vector 3\""
      ]
     },
     "metadata": {},
     "output_type": "display_data"
    },
    {
     "data": {
      "text/html": [
       "<ol class=list-inline>\n",
       "\t<li>1</li>\n",
       "\t<li>2</li>\n",
       "\t<li>3</li>\n",
       "\t<li>4</li>\n",
       "\t<li>5</li>\n",
       "\t<li>6</li>\n",
       "\t<li>7</li>\n",
       "\t<li>8</li>\n",
       "\t<li>9</li>\n",
       "\t<li>10</li>\n",
       "\t<li>11</li>\n",
       "\t<li>12</li>\n",
       "\t<li>13</li>\n",
       "\t<li>14</li>\n",
       "\t<li>15</li>\n",
       "</ol>\n"
      ],
      "text/latex": [
       "\\begin{enumerate*}\n",
       "\\item 1\n",
       "\\item 2\n",
       "\\item 3\n",
       "\\item 4\n",
       "\\item 5\n",
       "\\item 6\n",
       "\\item 7\n",
       "\\item 8\n",
       "\\item 9\n",
       "\\item 10\n",
       "\\item 11\n",
       "\\item 12\n",
       "\\item 13\n",
       "\\item 14\n",
       "\\item 15\n",
       "\\end{enumerate*}\n"
      ],
      "text/markdown": [
       "1. 1\n",
       "2. 2\n",
       "3. 3\n",
       "4. 4\n",
       "5. 5\n",
       "6. 6\n",
       "7. 7\n",
       "8. 8\n",
       "9. 9\n",
       "10. 10\n",
       "11. 11\n",
       "12. 12\n",
       "13. 13\n",
       "14. 14\n",
       "15. 15\n",
       "\n",
       "\n"
      ],
      "text/plain": [
       " [1]  1  2  3  4  5  6  7  8  9 10 11 12 13 14 15"
      ]
     },
     "metadata": {},
     "output_type": "display_data"
    },
    {
     "data": {
      "text/html": [
       "'Vector 4'"
      ],
      "text/latex": [
       "'Vector 4'"
      ],
      "text/markdown": [
       "'Vector 4'"
      ],
      "text/plain": [
       "[1] \"Vector 4\""
      ]
     },
     "metadata": {},
     "output_type": "display_data"
    },
    {
     "data": {
      "text/html": [
       "<ol class=list-inline>\n",
       "\t<li>1.5</li>\n",
       "\t<li>2.5</li>\n",
       "\t<li>3.5</li>\n",
       "\t<li>4.5</li>\n",
       "\t<li>5.5</li>\n",
       "</ol>\n"
      ],
      "text/latex": [
       "\\begin{enumerate*}\n",
       "\\item 1.5\n",
       "\\item 2.5\n",
       "\\item 3.5\n",
       "\\item 4.5\n",
       "\\item 5.5\n",
       "\\end{enumerate*}\n"
      ],
      "text/markdown": [
       "1. 1.5\n",
       "2. 2.5\n",
       "3. 3.5\n",
       "4. 4.5\n",
       "5. 5.5\n",
       "\n",
       "\n"
      ],
      "text/plain": [
       "[1] 1.5 2.5 3.5 4.5 5.5"
      ]
     },
     "metadata": {},
     "output_type": "display_data"
    }
   ],
   "source": [
    "# Vectors\n",
    "vec1 <- c(\"Apple\", \"Banana\", \"Cherry\")\n",
    "vec2 <- c(14, 12, 15.2)\n",
    "vec3 <- 1:15\n",
    "vec4 <- 1.5:6.4\n",
    "'Vector 1'\n",
    "vec1\n",
    "'Vector 2'\n",
    "vec2\n",
    "'Vector 3'\n",
    "vec3\n",
    "'Vector 4'\n",
    "vec4"
   ]
  },
  {
   "cell_type": "code",
   "execution_count": 3,
   "id": "47dbac76-d877-40c9-b1c7-51a4382b0b3b",
   "metadata": {},
   "outputs": [
    {
     "data": {
      "text/html": [
       "<ol class=list-inline>\n",
       "\t<li>TRUE</li>\n",
       "\t<li>FALSE</li>\n",
       "\t<li>TRUE</li>\n",
       "\t<li>FALSE</li>\n",
       "</ol>\n"
      ],
      "text/latex": [
       "\\begin{enumerate*}\n",
       "\\item TRUE\n",
       "\\item FALSE\n",
       "\\item TRUE\n",
       "\\item FALSE\n",
       "\\end{enumerate*}\n"
      ],
      "text/markdown": [
       "1. TRUE\n",
       "2. FALSE\n",
       "3. TRUE\n",
       "4. FALSE\n",
       "\n",
       "\n"
      ],
      "text/plain": [
       "[1]  TRUE FALSE  TRUE FALSE"
      ]
     },
     "metadata": {},
     "output_type": "display_data"
    }
   ],
   "source": [
    "# Vector of logical values\n",
    "log_values <- c(TRUE, FALSE, TRUE, FALSE)\n",
    "log_values"
   ]
  },
  {
   "cell_type": "code",
   "execution_count": 4,
   "id": "fecbbc5f-4788-45df-9908-b80a9d46a720",
   "metadata": {},
   "outputs": [
    {
     "data": {
      "text/html": [
       "3"
      ],
      "text/latex": [
       "3"
      ],
      "text/markdown": [
       "3"
      ],
      "text/plain": [
       "[1] 3"
      ]
     },
     "metadata": {},
     "output_type": "display_data"
    }
   ],
   "source": [
    "# Properties of  Vectors\n",
    "# LENGTH\n",
    "length(vec1)"
   ]
  },
  {
   "cell_type": "code",
   "execution_count": 5,
   "id": "9dad2392-718a-44b1-b77a-1254e13b740b",
   "metadata": {},
   "outputs": [
    {
     "data": {
      "text/html": [
       "<ol class=list-inline>\n",
       "\t<li>12</li>\n",
       "\t<li>14</li>\n",
       "\t<li>15.2</li>\n",
       "</ol>\n"
      ],
      "text/latex": [
       "\\begin{enumerate*}\n",
       "\\item 12\n",
       "\\item 14\n",
       "\\item 15.2\n",
       "\\end{enumerate*}\n"
      ],
      "text/markdown": [
       "1. 12\n",
       "2. 14\n",
       "3. 15.2\n",
       "\n",
       "\n"
      ],
      "text/plain": [
       "[1] 12.0 14.0 15.2"
      ]
     },
     "metadata": {},
     "output_type": "display_data"
    },
    {
     "data": {
      "text/html": [
       "<ol class=list-inline>\n",
       "\t<li>'Apple'</li>\n",
       "\t<li>'Banana'</li>\n",
       "\t<li>'Cherry'</li>\n",
       "</ol>\n"
      ],
      "text/latex": [
       "\\begin{enumerate*}\n",
       "\\item 'Apple'\n",
       "\\item 'Banana'\n",
       "\\item 'Cherry'\n",
       "\\end{enumerate*}\n"
      ],
      "text/markdown": [
       "1. 'Apple'\n",
       "2. 'Banana'\n",
       "3. 'Cherry'\n",
       "\n",
       "\n"
      ],
      "text/plain": [
       "[1] \"Apple\"  \"Banana\" \"Cherry\""
      ]
     },
     "metadata": {},
     "output_type": "display_data"
    }
   ],
   "source": [
    "# SORT\n",
    "sort(vec2)\n",
    "sort(vec1)"
   ]
  },
  {
   "cell_type": "code",
   "execution_count": 16,
   "id": "caab5ec8-e0a9-4ac2-906f-338f71a24f5c",
   "metadata": {},
   "outputs": [
    {
     "data": {
      "text/html": [
       "'Apple'"
      ],
      "text/latex": [
       "'Apple'"
      ],
      "text/markdown": [
       "'Apple'"
      ],
      "text/plain": [
       "[1] \"Apple\""
      ]
     },
     "metadata": {},
     "output_type": "display_data"
    },
    {
     "data": {
      "text/html": [
       "5.5"
      ],
      "text/latex": [
       "5.5"
      ],
      "text/markdown": [
       "5.5"
      ],
      "text/plain": [
       "[1] 5.5"
      ]
     },
     "metadata": {},
     "output_type": "display_data"
    },
    {
     "data": {
      "text/html": [
       "'Multiple Access'"
      ],
      "text/latex": [
       "'Multiple Access'"
      ],
      "text/markdown": [
       "'Multiple Access'"
      ],
      "text/plain": [
       "[1] \"Multiple Access\""
      ]
     },
     "metadata": {},
     "output_type": "display_data"
    },
    {
     "data": {
      "text/html": [
       "<ol class=list-inline>\n",
       "\t<li>1</li>\n",
       "\t<li>2</li>\n",
       "\t<li>3</li>\n",
       "\t<li>4</li>\n",
       "\t<li>5</li>\n",
       "</ol>\n"
      ],
      "text/latex": [
       "\\begin{enumerate*}\n",
       "\\item 1\n",
       "\\item 2\n",
       "\\item 3\n",
       "\\item 4\n",
       "\\item 5\n",
       "\\end{enumerate*}\n"
      ],
      "text/markdown": [
       "1. 1\n",
       "2. 2\n",
       "3. 3\n",
       "4. 4\n",
       "5. 5\n",
       "\n",
       "\n"
      ],
      "text/plain": [
       "[1] 1 2 3 4 5"
      ]
     },
     "metadata": {},
     "output_type": "display_data"
    },
    {
     "data": {
      "text/html": [
       "'Specified Access'"
      ],
      "text/latex": [
       "'Specified Access'"
      ],
      "text/markdown": [
       "'Specified Access'"
      ],
      "text/plain": [
       "[1] \"Specified Access\""
      ]
     },
     "metadata": {},
     "output_type": "display_data"
    },
    {
     "data": {
      "text/html": [
       "12"
      ],
      "text/latex": [
       "12"
      ],
      "text/markdown": [
       "12"
      ],
      "text/plain": [
       "[1] 12"
      ]
     },
     "metadata": {},
     "output_type": "display_data"
    },
    {
     "data": {
      "text/html": [
       "<ol class=list-inline>\n",
       "\t<li>2</li>\n",
       "\t<li>3</li>\n",
       "\t<li>4</li>\n",
       "\t<li>5</li>\n",
       "\t<li>6</li>\n",
       "\t<li>7</li>\n",
       "\t<li>8</li>\n",
       "\t<li>9</li>\n",
       "\t<li>10</li>\n",
       "\t<li>11</li>\n",
       "\t<li>12</li>\n",
       "\t<li>13</li>\n",
       "\t<li>14</li>\n",
       "\t<li>15</li>\n",
       "</ol>\n"
      ],
      "text/latex": [
       "\\begin{enumerate*}\n",
       "\\item 2\n",
       "\\item 3\n",
       "\\item 4\n",
       "\\item 5\n",
       "\\item 6\n",
       "\\item 7\n",
       "\\item 8\n",
       "\\item 9\n",
       "\\item 10\n",
       "\\item 11\n",
       "\\item 12\n",
       "\\item 13\n",
       "\\item 14\n",
       "\\item 15\n",
       "\\end{enumerate*}\n"
      ],
      "text/markdown": [
       "1. 2\n",
       "2. 3\n",
       "3. 4\n",
       "4. 5\n",
       "5. 6\n",
       "6. 7\n",
       "7. 8\n",
       "8. 9\n",
       "9. 10\n",
       "10. 11\n",
       "11. 12\n",
       "12. 13\n",
       "13. 14\n",
       "14. 15\n",
       "\n",
       "\n"
      ],
      "text/plain": [
       " [1]  2  3  4  5  6  7  8  9 10 11 12 13 14 15"
      ]
     },
     "metadata": {},
     "output_type": "display_data"
    },
    {
     "data": {
      "text/html": [
       "<ol class=list-inline>\n",
       "\t<li>1</li>\n",
       "\t<li>2</li>\n",
       "\t<li>3</li>\n",
       "\t<li>4</li>\n",
       "\t<li>6</li>\n",
       "\t<li>7</li>\n",
       "\t<li>8</li>\n",
       "\t<li>9</li>\n",
       "\t<li>10</li>\n",
       "\t<li>11</li>\n",
       "\t<li>12</li>\n",
       "\t<li>13</li>\n",
       "\t<li>14</li>\n",
       "\t<li>15</li>\n",
       "</ol>\n"
      ],
      "text/latex": [
       "\\begin{enumerate*}\n",
       "\\item 1\n",
       "\\item 2\n",
       "\\item 3\n",
       "\\item 4\n",
       "\\item 6\n",
       "\\item 7\n",
       "\\item 8\n",
       "\\item 9\n",
       "\\item 10\n",
       "\\item 11\n",
       "\\item 12\n",
       "\\item 13\n",
       "\\item 14\n",
       "\\item 15\n",
       "\\end{enumerate*}\n"
      ],
      "text/markdown": [
       "1. 1\n",
       "2. 2\n",
       "3. 3\n",
       "4. 4\n",
       "5. 6\n",
       "6. 7\n",
       "7. 8\n",
       "8. 9\n",
       "9. 10\n",
       "10. 11\n",
       "11. 12\n",
       "12. 13\n",
       "13. 14\n",
       "14. 15\n",
       "\n",
       "\n"
      ],
      "text/plain": [
       " [1]  1  2  3  4  6  7  8  9 10 11 12 13 14 15"
      ]
     },
     "metadata": {},
     "output_type": "display_data"
    }
   ],
   "source": [
    "# Access\n",
    "vec1[1]\n",
    "vec4[5]\n",
    "'Multiple Access'\n",
    "vec3[c(1:5)]\n",
    "'Specified Access'\n",
    "vec2[c(2)]\n",
    "vec3[c(-1)]         # Gives all the values except the 1st value, say -5, then the 5th val will be missing\n",
    "vec3[c(-5)]  "
   ]
  },
  {
   "cell_type": "code",
   "execution_count": 17,
   "id": "8c243228-fb0d-4dde-8332-e1ed26c2d35c",
   "metadata": {},
   "outputs": [
    {
     "data": {
      "text/html": [
       "<ol class=list-inline>\n",
       "\t<li>'Apple'</li>\n",
       "\t<li>'Pears'</li>\n",
       "\t<li>'Kiwi'</li>\n",
       "\t<li>'Watermelon'</li>\n",
       "</ol>\n"
      ],
      "text/latex": [
       "\\begin{enumerate*}\n",
       "\\item 'Apple'\n",
       "\\item 'Pears'\n",
       "\\item 'Kiwi'\n",
       "\\item 'Watermelon'\n",
       "\\end{enumerate*}\n"
      ],
      "text/markdown": [
       "1. 'Apple'\n",
       "2. 'Pears'\n",
       "3. 'Kiwi'\n",
       "4. 'Watermelon'\n",
       "\n",
       "\n"
      ],
      "text/plain": [
       "[1] \"Apple\"      \"Pears\"      \"Kiwi\"       \"Watermelon\""
      ]
     },
     "metadata": {},
     "output_type": "display_data"
    }
   ],
   "source": [
    "# Change an item\n",
    "fruits <- c(\"Oranges\", \"Pears\", \"Kiwi\", \"Watermelon\")\n",
    "fruits[1] <- \"Apple\"\n",
    "fruits"
   ]
  },
  {
   "cell_type": "code",
   "execution_count": 22,
   "id": "9721c868-43c5-48cc-a5e7-0ec08cca53fd",
   "metadata": {},
   "outputs": [
    {
     "data": {
      "text/html": [
       "<ol class=list-inline>\n",
       "\t<li>'Apple'</li>\n",
       "\t<li>'Apple'</li>\n",
       "\t<li>'Apple'</li>\n",
       "\t<li>'Pears'</li>\n",
       "\t<li>'Pears'</li>\n",
       "\t<li>'Pears'</li>\n",
       "\t<li>'Kiwi'</li>\n",
       "\t<li>'Kiwi'</li>\n",
       "\t<li>'Kiwi'</li>\n",
       "\t<li>'Watermelon'</li>\n",
       "\t<li>'Watermelon'</li>\n",
       "\t<li>'Watermelon'</li>\n",
       "</ol>\n"
      ],
      "text/latex": [
       "\\begin{enumerate*}\n",
       "\\item 'Apple'\n",
       "\\item 'Apple'\n",
       "\\item 'Apple'\n",
       "\\item 'Pears'\n",
       "\\item 'Pears'\n",
       "\\item 'Pears'\n",
       "\\item 'Kiwi'\n",
       "\\item 'Kiwi'\n",
       "\\item 'Kiwi'\n",
       "\\item 'Watermelon'\n",
       "\\item 'Watermelon'\n",
       "\\item 'Watermelon'\n",
       "\\end{enumerate*}\n"
      ],
      "text/markdown": [
       "1. 'Apple'\n",
       "2. 'Apple'\n",
       "3. 'Apple'\n",
       "4. 'Pears'\n",
       "5. 'Pears'\n",
       "6. 'Pears'\n",
       "7. 'Kiwi'\n",
       "8. 'Kiwi'\n",
       "9. 'Kiwi'\n",
       "10. 'Watermelon'\n",
       "11. 'Watermelon'\n",
       "12. 'Watermelon'\n",
       "\n",
       "\n"
      ],
      "text/plain": [
       " [1] \"Apple\"      \"Apple\"      \"Apple\"      \"Pears\"      \"Pears\"     \n",
       " [6] \"Pears\"      \"Kiwi\"       \"Kiwi\"       \"Kiwi\"       \"Watermelon\"\n",
       "[11] \"Watermelon\" \"Watermelon\""
      ]
     },
     "metadata": {},
     "output_type": "display_data"
    },
    {
     "data": {
      "text/html": [
       "'Individual count'"
      ],
      "text/latex": [
       "'Individual count'"
      ],
      "text/markdown": [
       "'Individual count'"
      ],
      "text/plain": [
       "[1] \"Individual count\""
      ]
     },
     "metadata": {},
     "output_type": "display_data"
    },
    {
     "data": {
      "text/html": [
       "<ol class=list-inline>\n",
       "\t<li>'Apple'</li>\n",
       "\t<li>'Apple'</li>\n",
       "\t<li>'Pears'</li>\n",
       "\t<li>'Pears'</li>\n",
       "\t<li>'Pears'</li>\n",
       "\t<li>'Pears'</li>\n",
       "\t<li>'Kiwi'</li>\n",
       "\t<li>'Kiwi'</li>\n",
       "\t<li>'Kiwi'</li>\n",
       "\t<li>'Watermelon'</li>\n",
       "\t<li>'Watermelon'</li>\n",
       "\t<li>'Watermelon'</li>\n",
       "\t<li>'Watermelon'</li>\n",
       "\t<li>'Watermelon'</li>\n",
       "</ol>\n"
      ],
      "text/latex": [
       "\\begin{enumerate*}\n",
       "\\item 'Apple'\n",
       "\\item 'Apple'\n",
       "\\item 'Pears'\n",
       "\\item 'Pears'\n",
       "\\item 'Pears'\n",
       "\\item 'Pears'\n",
       "\\item 'Kiwi'\n",
       "\\item 'Kiwi'\n",
       "\\item 'Kiwi'\n",
       "\\item 'Watermelon'\n",
       "\\item 'Watermelon'\n",
       "\\item 'Watermelon'\n",
       "\\item 'Watermelon'\n",
       "\\item 'Watermelon'\n",
       "\\end{enumerate*}\n"
      ],
      "text/markdown": [
       "1. 'Apple'\n",
       "2. 'Apple'\n",
       "3. 'Pears'\n",
       "4. 'Pears'\n",
       "5. 'Pears'\n",
       "6. 'Pears'\n",
       "7. 'Kiwi'\n",
       "8. 'Kiwi'\n",
       "9. 'Kiwi'\n",
       "10. 'Watermelon'\n",
       "11. 'Watermelon'\n",
       "12. 'Watermelon'\n",
       "13. 'Watermelon'\n",
       "14. 'Watermelon'\n",
       "\n",
       "\n"
      ],
      "text/plain": [
       " [1] \"Apple\"      \"Apple\"      \"Pears\"      \"Pears\"      \"Pears\"     \n",
       " [6] \"Pears\"      \"Kiwi\"       \"Kiwi\"       \"Kiwi\"       \"Watermelon\"\n",
       "[11] \"Watermelon\" \"Watermelon\" \"Watermelon\" \"Watermelon\""
      ]
     },
     "metadata": {},
     "output_type": "display_data"
    },
    {
     "data": {
      "text/html": [
       "<ol class=list-inline>\n",
       "\t<li>22</li>\n",
       "\t<li>22</li>\n",
       "\t<li>34</li>\n",
       "\t<li>34</li>\n",
       "\t<li>34</li>\n",
       "\t<li>34</li>\n",
       "\t<li>45</li>\n",
       "\t<li>45</li>\n",
       "\t<li>45</li>\n",
       "</ol>\n"
      ],
      "text/latex": [
       "\\begin{enumerate*}\n",
       "\\item 22\n",
       "\\item 22\n",
       "\\item 34\n",
       "\\item 34\n",
       "\\item 34\n",
       "\\item 34\n",
       "\\item 45\n",
       "\\item 45\n",
       "\\item 45\n",
       "\\end{enumerate*}\n"
      ],
      "text/markdown": [
       "1. 22\n",
       "2. 22\n",
       "3. 34\n",
       "4. 34\n",
       "5. 34\n",
       "6. 34\n",
       "7. 45\n",
       "8. 45\n",
       "9. 45\n",
       "\n",
       "\n"
      ],
      "text/plain": [
       "[1] 22 22 34 34 34 34 45 45 45"
      ]
     },
     "metadata": {},
     "output_type": "display_data"
    }
   ],
   "source": [
    "# Repeat\n",
    "repeat_each <- rep(fruits, each = 3)\n",
    "repeat_each\n",
    "'Individual count'\n",
    "repeat1 <- rep(fruits, times = c(2,4,3,5))\n",
    "repeat1\n",
    "repeat2 <- rep(c(22, 34, 45), times = c(2,4,3))\n",
    "repeat2"
   ]
  },
  {
   "cell_type": "code",
   "execution_count": 23,
   "id": "ca929514-3f10-450f-b246-41caab6f249a",
   "metadata": {},
   "outputs": [
    {
     "data": {
      "text/html": [
       "'1. var &lt;- 1:5'"
      ],
      "text/latex": [
       "'1. var <- 1:5'"
      ],
      "text/markdown": [
       "'1. var &lt;- 1:5'"
      ],
      "text/plain": [
       "[1] \"1. var <- 1:5\""
      ]
     },
     "metadata": {},
     "output_type": "display_data"
    },
    {
     "data": {
      "text/html": [
       "'2. using seq(from= , to= , by=)'"
      ],
      "text/latex": [
       "'2. using seq(from= , to= , by=)'"
      ],
      "text/markdown": [
       "'2. using seq(from= , to= , by=)'"
      ],
      "text/plain": [
       "[1] \"2. using seq(from= , to= , by=)\""
      ]
     },
     "metadata": {},
     "output_type": "display_data"
    },
    {
     "data": {
      "text/html": [
       "<ol class=list-inline>\n",
       "\t<li>2</li>\n",
       "\t<li>4</li>\n",
       "\t<li>6</li>\n",
       "\t<li>8</li>\n",
       "\t<li>10</li>\n",
       "\t<li>12</li>\n",
       "\t<li>14</li>\n",
       "</ol>\n"
      ],
      "text/latex": [
       "\\begin{enumerate*}\n",
       "\\item 2\n",
       "\\item 4\n",
       "\\item 6\n",
       "\\item 8\n",
       "\\item 10\n",
       "\\item 12\n",
       "\\item 14\n",
       "\\end{enumerate*}\n"
      ],
      "text/markdown": [
       "1. 2\n",
       "2. 4\n",
       "3. 6\n",
       "4. 8\n",
       "5. 10\n",
       "6. 12\n",
       "7. 14\n",
       "\n",
       "\n"
      ],
      "text/plain": [
       "[1]  2  4  6  8 10 12 14"
      ]
     },
     "metadata": {},
     "output_type": "display_data"
    }
   ],
   "source": [
    "# Another way for sequenced vectors\n",
    "'1. var <- 1:5'\n",
    "'2. using seq(from= , to= , by=)'\n",
    "num <- seq(from = 2, to = 14, by = 2)\n",
    "num"
   ]
  },
  {
   "cell_type": "code",
   "execution_count": 24,
   "id": "9d2c0700-4e05-4930-9ed9-69d22db88550",
   "metadata": {},
   "outputs": [
    {
     "data": {
      "text/html": [
       "<ol>\n",
       "\t<li>22</li>\n",
       "\t<li>34</li>\n",
       "\t<li>56</li>\n",
       "\t<li>88</li>\n",
       "</ol>\n"
      ],
      "text/latex": [
       "\\begin{enumerate}\n",
       "\\item 22\n",
       "\\item 34\n",
       "\\item 56\n",
       "\\item 88\n",
       "\\end{enumerate}\n"
      ],
      "text/markdown": [
       "1. 22\n",
       "2. 34\n",
       "3. 56\n",
       "4. 88\n",
       "\n",
       "\n"
      ],
      "text/plain": [
       "[[1]]\n",
       "[1] 22\n",
       "\n",
       "[[2]]\n",
       "[1] 34\n",
       "\n",
       "[[3]]\n",
       "[1] 56\n",
       "\n",
       "[[4]]\n",
       "[1] 88\n"
      ]
     },
     "metadata": {},
     "output_type": "display_data"
    }
   ],
   "source": [
    "# LISTS\n",
    "lst <- list(22, 34, 56, 88)\n",
    "lst"
   ]
  },
  {
   "cell_type": "code",
   "execution_count": 29,
   "id": "1a8192bb-665b-4c74-8d5e-2497f348bd3f",
   "metadata": {},
   "outputs": [
    {
     "data": {
      "text/html": [
       "<ol>\n",
       "\t<li>56</li>\n",
       "</ol>\n"
      ],
      "text/latex": [
       "\\begin{enumerate}\n",
       "\\item 56\n",
       "\\end{enumerate}\n"
      ],
      "text/markdown": [
       "1. 56\n",
       "\n",
       "\n"
      ],
      "text/plain": [
       "[[1]]\n",
       "[1] 56\n"
      ]
     },
     "metadata": {},
     "output_type": "display_data"
    },
    {
     "data": {
      "text/html": [
       "<ol>\n",
       "\t<li>44</li>\n",
       "\t<li>34</li>\n",
       "\t<li>56</li>\n",
       "\t<li>88</li>\n",
       "</ol>\n"
      ],
      "text/latex": [
       "\\begin{enumerate}\n",
       "\\item 44\n",
       "\\item 34\n",
       "\\item 56\n",
       "\\item 88\n",
       "\\end{enumerate}\n"
      ],
      "text/markdown": [
       "1. 44\n",
       "2. 34\n",
       "3. 56\n",
       "4. 88\n",
       "\n",
       "\n"
      ],
      "text/plain": [
       "[[1]]\n",
       "[1] 44\n",
       "\n",
       "[[2]]\n",
       "[1] 34\n",
       "\n",
       "[[3]]\n",
       "[1] 56\n",
       "\n",
       "[[4]]\n",
       "[1] 88\n"
      ]
     },
     "metadata": {},
     "output_type": "display_data"
    },
    {
     "data": {
      "text/html": [
       "'length = 4'"
      ],
      "text/latex": [
       "'length = 4'"
      ],
      "text/markdown": [
       "'length = 4'"
      ],
      "text/plain": [
       "[1] \"length = 4\""
      ]
     },
     "metadata": {},
     "output_type": "display_data"
    }
   ],
   "source": [
    "# Access\n",
    "lst[3]\n",
    "# Change\n",
    "lst[1] <- 44\n",
    "lst\n",
    "#Length\n",
    "paste('length =', length(lst))"
   ]
  },
  {
   "cell_type": "code",
   "execution_count": 30,
   "id": "8673381c-bc74-43c8-9c90-edf264ef2581",
   "metadata": {},
   "outputs": [
    {
     "data": {
      "text/html": [
       "TRUE"
      ],
      "text/latex": [
       "TRUE"
      ],
      "text/markdown": [
       "TRUE"
      ],
      "text/plain": [
       "[1] TRUE"
      ]
     },
     "metadata": {},
     "output_type": "display_data"
    }
   ],
   "source": [
    "# Check if it exists\n",
    "\"Apple\" %in% fruits"
   ]
  },
  {
   "cell_type": "code",
   "execution_count": 33,
   "id": "2239cb96-510e-494d-a7f8-0315001316b2",
   "metadata": {},
   "outputs": [
    {
     "data": {
      "text/html": [
       "<ol>\n",
       "\t<li>44</li>\n",
       "\t<li>34</li>\n",
       "\t<li>56</li>\n",
       "\t<li>88</li>\n",
       "\t<li>1001</li>\n",
       "</ol>\n"
      ],
      "text/latex": [
       "\\begin{enumerate}\n",
       "\\item 44\n",
       "\\item 34\n",
       "\\item 56\n",
       "\\item 88\n",
       "\\item 1001\n",
       "\\end{enumerate}\n"
      ],
      "text/markdown": [
       "1. 44\n",
       "2. 34\n",
       "3. 56\n",
       "4. 88\n",
       "5. 1001\n",
       "\n",
       "\n"
      ],
      "text/plain": [
       "[[1]]\n",
       "[1] 44\n",
       "\n",
       "[[2]]\n",
       "[1] 34\n",
       "\n",
       "[[3]]\n",
       "[1] 56\n",
       "\n",
       "[[4]]\n",
       "[1] 88\n",
       "\n",
       "[[5]]\n",
       "[1] 1001\n"
      ]
     },
     "metadata": {},
     "output_type": "display_data"
    },
    {
     "data": {
      "text/html": [
       "<ol class=list-inline>\n",
       "\t<li>'Apple'</li>\n",
       "\t<li>'Pears'</li>\n",
       "\t<li>'Banana'</li>\n",
       "\t<li>'Kiwi'</li>\n",
       "\t<li>'Watermelon'</li>\n",
       "</ol>\n"
      ],
      "text/latex": [
       "\\begin{enumerate*}\n",
       "\\item 'Apple'\n",
       "\\item 'Pears'\n",
       "\\item 'Banana'\n",
       "\\item 'Kiwi'\n",
       "\\item 'Watermelon'\n",
       "\\end{enumerate*}\n"
      ],
      "text/markdown": [
       "1. 'Apple'\n",
       "2. 'Pears'\n",
       "3. 'Banana'\n",
       "4. 'Kiwi'\n",
       "5. 'Watermelon'\n",
       "\n",
       "\n"
      ],
      "text/plain": [
       "[1] \"Apple\"      \"Pears\"      \"Banana\"     \"Kiwi\"       \"Watermelon\""
      ]
     },
     "metadata": {},
     "output_type": "display_data"
    }
   ],
   "source": [
    "# Add elements\n",
    "append(lst, 1001)\n",
    "append(fruits, \"Banana\", after = 2)"
   ]
  },
  {
   "cell_type": "code",
   "execution_count": 36,
   "id": "58de78bb-e290-4e05-907c-65896d7032b8",
   "metadata": {},
   "outputs": [
    {
     "data": {
      "text/html": [
       "<ol class=list-inline>\n",
       "\t<li>'Apple'</li>\n",
       "\t<li>'Pears'</li>\n",
       "\t<li>'Kiwi'</li>\n",
       "\t<li>'Watermelon'</li>\n",
       "</ol>\n"
      ],
      "text/latex": [
       "\\begin{enumerate*}\n",
       "\\item 'Apple'\n",
       "\\item 'Pears'\n",
       "\\item 'Kiwi'\n",
       "\\item 'Watermelon'\n",
       "\\end{enumerate*}\n"
      ],
      "text/markdown": [
       "1. 'Apple'\n",
       "2. 'Pears'\n",
       "3. 'Kiwi'\n",
       "4. 'Watermelon'\n",
       "\n",
       "\n"
      ],
      "text/plain": [
       "[1] \"Apple\"      \"Pears\"      \"Kiwi\"       \"Watermelon\""
      ]
     },
     "metadata": {},
     "output_type": "display_data"
    },
    {
     "data": {
      "text/html": [
       "<ol class=list-inline>\n",
       "\t<li>'Apple'</li>\n",
       "\t<li>'Kiwi'</li>\n",
       "\t<li>'Watermelon'</li>\n",
       "</ol>\n"
      ],
      "text/latex": [
       "\\begin{enumerate*}\n",
       "\\item 'Apple'\n",
       "\\item 'Kiwi'\n",
       "\\item 'Watermelon'\n",
       "\\end{enumerate*}\n"
      ],
      "text/markdown": [
       "1. 'Apple'\n",
       "2. 'Kiwi'\n",
       "3. 'Watermelon'\n",
       "\n",
       "\n"
      ],
      "text/plain": [
       "[1] \"Apple\"      \"Kiwi\"       \"Watermelon\""
      ]
     },
     "metadata": {},
     "output_type": "display_data"
    }
   ],
   "source": [
    "# Remove elements\n",
    "# using negative indexing which displayes other elements except that position\n",
    "fruits\n",
    "fruits -> edit_fruits\n",
    "edit_fruits[-2]"
   ]
  },
  {
   "cell_type": "code",
   "execution_count": 37,
   "id": "b6e0a011-7e0b-4127-a73f-d20a3ee2698e",
   "metadata": {},
   "outputs": [
    {
     "data": {
      "text/html": [
       "<ol>\n",
       "\t<li>44</li>\n",
       "\t<li>34</li>\n",
       "\t<li>56</li>\n",
       "</ol>\n"
      ],
      "text/latex": [
       "\\begin{enumerate}\n",
       "\\item 44\n",
       "\\item 34\n",
       "\\item 56\n",
       "\\end{enumerate}\n"
      ],
      "text/markdown": [
       "1. 44\n",
       "2. 34\n",
       "3. 56\n",
       "\n",
       "\n"
      ],
      "text/plain": [
       "[[1]]\n",
       "[1] 44\n",
       "\n",
       "[[2]]\n",
       "[1] 34\n",
       "\n",
       "[[3]]\n",
       "[1] 56\n"
      ]
     },
     "metadata": {},
     "output_type": "display_data"
    }
   ],
   "source": [
    "# Range\n",
    "(lst)[1:3]"
   ]
  },
  {
   "cell_type": "code",
   "execution_count": 38,
   "id": "a85a49c9-8829-4b1f-b5f5-16f03b6184b0",
   "metadata": {},
   "outputs": [
    {
     "name": "stdout",
     "output_type": "stream",
     "text": [
      "[1] \"apple\"\n",
      "[1] \"banana\"\n",
      "[1] \"cherry\"\n"
     ]
    }
   ],
   "source": [
    "# Loop\n",
    "thislist <- list(\"apple\", \"banana\", \"cherry\")\n",
    "\n",
    "for (x in thislist) {\n",
    "  print(x)\n",
    "}"
   ]
  },
  {
   "cell_type": "code",
   "execution_count": 40,
   "id": "072e720a-2a2d-4543-bc4f-b497d74b9965",
   "metadata": {},
   "outputs": [
    {
     "data": {
      "text/html": [
       "<ol>\n",
       "\t<li>44</li>\n",
       "\t<li>34</li>\n",
       "\t<li>56</li>\n",
       "\t<li>88</li>\n",
       "\t<li>'Apple'</li>\n",
       "\t<li>'Pears'</li>\n",
       "\t<li>'Kiwi'</li>\n",
       "\t<li>'Watermelon'</li>\n",
       "</ol>\n"
      ],
      "text/latex": [
       "\\begin{enumerate}\n",
       "\\item 44\n",
       "\\item 34\n",
       "\\item 56\n",
       "\\item 88\n",
       "\\item 'Apple'\n",
       "\\item 'Pears'\n",
       "\\item 'Kiwi'\n",
       "\\item 'Watermelon'\n",
       "\\end{enumerate}\n"
      ],
      "text/markdown": [
       "1. 44\n",
       "2. 34\n",
       "3. 56\n",
       "4. 88\n",
       "5. 'Apple'\n",
       "6. 'Pears'\n",
       "7. 'Kiwi'\n",
       "8. 'Watermelon'\n",
       "\n",
       "\n"
      ],
      "text/plain": [
       "[[1]]\n",
       "[1] 44\n",
       "\n",
       "[[2]]\n",
       "[1] 34\n",
       "\n",
       "[[3]]\n",
       "[1] 56\n",
       "\n",
       "[[4]]\n",
       "[1] 88\n",
       "\n",
       "[[5]]\n",
       "[1] \"Apple\"\n",
       "\n",
       "[[6]]\n",
       "[1] \"Pears\"\n",
       "\n",
       "[[7]]\n",
       "[1] \"Kiwi\"\n",
       "\n",
       "[[8]]\n",
       "[1] \"Watermelon\"\n"
      ]
     },
     "metadata": {},
     "output_type": "display_data"
    }
   ],
   "source": [
    "# Join 2 lists\n",
    "lst2 <- c(lst, fruits)\n",
    "lst2"
   ]
  },
  {
   "cell_type": "code",
   "execution_count": 43,
   "id": "f8991aab-3f76-4f90-9dbd-ede7f215ff74",
   "metadata": {},
   "outputs": [
    {
     "data": {
      "text/html": [
       "<table>\n",
       "<tbody>\n",
       "\t<tr><td>2</td><td>5</td><td>4</td></tr>\n",
       "\t<tr><td>4</td><td>1</td><td>2</td></tr>\n",
       "</tbody>\n",
       "</table>\n"
      ],
      "text/latex": [
       "\\begin{tabular}{lll}\n",
       "\t 2 & 5 & 4\\\\\n",
       "\t 4 & 1 & 2\\\\\n",
       "\\end{tabular}\n"
      ],
      "text/markdown": [
       "\n",
       "| 2 | 5 | 4 |\n",
       "| 4 | 1 | 2 |\n",
       "\n"
      ],
      "text/plain": [
       "     [,1] [,2] [,3]\n",
       "[1,] 2    5    4   \n",
       "[2,] 4    1    2   "
      ]
     },
     "metadata": {},
     "output_type": "display_data"
    },
    {
     "data": {
      "text/html": [
       "<table>\n",
       "<tbody>\n",
       "\t<tr><td>apple </td><td>cherry</td></tr>\n",
       "\t<tr><td>banana</td><td>orange</td></tr>\n",
       "</tbody>\n",
       "</table>\n"
      ],
      "text/latex": [
       "\\begin{tabular}{ll}\n",
       "\t apple  & cherry\\\\\n",
       "\t banana & orange\\\\\n",
       "\\end{tabular}\n"
      ],
      "text/markdown": [
       "\n",
       "| apple  | cherry |\n",
       "| banana | orange |\n",
       "\n"
      ],
      "text/plain": [
       "     [,1]   [,2]  \n",
       "[1,] apple  cherry\n",
       "[2,] banana orange"
      ]
     },
     "metadata": {},
     "output_type": "display_data"
    }
   ],
   "source": [
    "# Matrices\n",
    "m1 <- matrix(c(2,4,5,1,4,2), nrow = 2, ncol = 3)\n",
    "m2 <- matrix(c(\"apple\", \"banana\", \"cherry\", \"orange\"), nrow = 2, ncol = 2)\n",
    "m1\n",
    "m2"
   ]
  },
  {
   "cell_type": "code",
   "execution_count": 47,
   "id": "18bd7ec5-91cf-4b37-b40b-e6b0e7febf7a",
   "metadata": {},
   "outputs": [
    {
     "data": {
      "text/html": [
       "4"
      ],
      "text/latex": [
       "4"
      ],
      "text/markdown": [
       "4"
      ],
      "text/plain": [
       "[1] 4"
      ]
     },
     "metadata": {},
     "output_type": "display_data"
    },
    {
     "data": {
      "text/html": [
       "'orange'"
      ],
      "text/latex": [
       "'orange'"
      ],
      "text/markdown": [
       "'orange'"
      ],
      "text/plain": [
       "[1] \"orange\""
      ]
     },
     "metadata": {},
     "output_type": "display_data"
    },
    {
     "data": {
      "text/html": [
       "<ol class=list-inline>\n",
       "\t<li>2</li>\n",
       "\t<li>5</li>\n",
       "\t<li>4</li>\n",
       "</ol>\n"
      ],
      "text/latex": [
       "\\begin{enumerate*}\n",
       "\\item 2\n",
       "\\item 5\n",
       "\\item 4\n",
       "\\end{enumerate*}\n"
      ],
      "text/markdown": [
       "1. 2\n",
       "2. 5\n",
       "3. 4\n",
       "\n",
       "\n"
      ],
      "text/plain": [
       "[1] 2 5 4"
      ]
     },
     "metadata": {},
     "output_type": "display_data"
    },
    {
     "data": {
      "text/html": [
       "<ol class=list-inline>\n",
       "\t<li>'apple'</li>\n",
       "\t<li>'banana'</li>\n",
       "</ol>\n"
      ],
      "text/latex": [
       "\\begin{enumerate*}\n",
       "\\item 'apple'\n",
       "\\item 'banana'\n",
       "\\end{enumerate*}\n"
      ],
      "text/markdown": [
       "1. 'apple'\n",
       "2. 'banana'\n",
       "\n",
       "\n"
      ],
      "text/plain": [
       "[1] \"apple\"  \"banana\""
      ]
     },
     "metadata": {},
     "output_type": "display_data"
    }
   ],
   "source": [
    "# Access Matrix Items\n",
    "m1[1,3]        # row, col\n",
    "m2[2,2]\n",
    "m1[1,]\n",
    "m2[,1]"
   ]
  },
  {
   "cell_type": "code",
   "execution_count": 49,
   "id": "ddb9d6a8-0230-4634-81f7-abb46f165b81",
   "metadata": {},
   "outputs": [
    {
     "data": {
      "text/html": [
       "<table>\n",
       "<tbody>\n",
       "\t<tr><td>apple </td><td>orange</td><td>pear  </td></tr>\n",
       "\t<tr><td>banana</td><td>grape </td><td>melon </td></tr>\n",
       "</tbody>\n",
       "</table>\n"
      ],
      "text/latex": [
       "\\begin{tabular}{lll}\n",
       "\t apple  & orange & pear  \\\\\n",
       "\t banana & grape  & melon \\\\\n",
       "\\end{tabular}\n"
      ],
      "text/markdown": [
       "\n",
       "| apple  | orange | pear   |\n",
       "| banana | grape  | melon  |\n",
       "\n"
      ],
      "text/plain": [
       "     [,1]   [,2]   [,3] \n",
       "[1,] apple  orange pear \n",
       "[2,] banana grape  melon"
      ]
     },
     "metadata": {},
     "output_type": "display_data"
    },
    {
     "data": {
      "text/html": [
       "<table>\n",
       "<tbody>\n",
       "\t<tr><td>apple    </td><td>orange   </td></tr>\n",
       "\t<tr><td>banana   </td><td>grape    </td></tr>\n",
       "\t<tr><td>cherry   </td><td>pineapple</td></tr>\n",
       "</tbody>\n",
       "</table>\n"
      ],
      "text/latex": [
       "\\begin{tabular}{ll}\n",
       "\t apple     & orange   \\\\\n",
       "\t banana    & grape    \\\\\n",
       "\t cherry    & pineapple\\\\\n",
       "\\end{tabular}\n"
      ],
      "text/markdown": [
       "\n",
       "| apple     | orange    |\n",
       "| banana    | grape     |\n",
       "| cherry    | pineapple |\n",
       "\n"
      ],
      "text/plain": [
       "     [,1]   [,2]     \n",
       "[1,] apple  orange   \n",
       "[2,] banana grape    \n",
       "[3,] cherry pineapple"
      ]
     },
     "metadata": {},
     "output_type": "display_data"
    }
   ],
   "source": [
    "# Access more than 1 row\n",
    "thismatrix <- matrix(c(\"apple\", \"banana\", \"cherry\", \"orange\",\"grape\", \"pineapple\", \"pear\", \"melon\", \"fig\"), nrow = 3, ncol = 3)\n",
    "thismatrix[c(1,2),]\n",
    "thismatrix[, c(1,2)]"
   ]
  },
  {
   "cell_type": "code",
   "execution_count": 54,
   "id": "0dcdbbd7-d3bf-4d5f-b5b5-110be71deac6",
   "metadata": {},
   "outputs": [
    {
     "data": {
      "text/html": [
       "'Adding Cols'"
      ],
      "text/latex": [
       "'Adding Cols'"
      ],
      "text/markdown": [
       "'Adding Cols'"
      ],
      "text/plain": [
       "[1] \"Adding Cols\""
      ]
     },
     "metadata": {},
     "output_type": "display_data"
    },
    {
     "data": {
      "text/html": [
       "<table>\n",
       "<tbody>\n",
       "\t<tr><td>2</td><td>5</td><td>4</td></tr>\n",
       "\t<tr><td>4</td><td>1</td><td>2</td></tr>\n",
       "</tbody>\n",
       "</table>\n"
      ],
      "text/latex": [
       "\\begin{tabular}{lll}\n",
       "\t 2 & 5 & 4\\\\\n",
       "\t 4 & 1 & 2\\\\\n",
       "\\end{tabular}\n"
      ],
      "text/markdown": [
       "\n",
       "| 2 | 5 | 4 |\n",
       "| 4 | 1 | 2 |\n",
       "\n"
      ],
      "text/plain": [
       "     [,1] [,2] [,3]\n",
       "[1,] 2    5    4   \n",
       "[2,] 4    1    2   "
      ]
     },
     "metadata": {},
     "output_type": "display_data"
    },
    {
     "data": {
      "text/html": [
       "<table>\n",
       "<tbody>\n",
       "\t<tr><td>2</td><td>5</td><td>4</td><td>2</td></tr>\n",
       "\t<tr><td>4</td><td>1</td><td>2</td><td>7</td></tr>\n",
       "</tbody>\n",
       "</table>\n"
      ],
      "text/latex": [
       "\\begin{tabular}{llll}\n",
       "\t 2 & 5 & 4 & 2\\\\\n",
       "\t 4 & 1 & 2 & 7\\\\\n",
       "\\end{tabular}\n"
      ],
      "text/markdown": [
       "\n",
       "| 2 | 5 | 4 | 2 |\n",
       "| 4 | 1 | 2 | 7 |\n",
       "\n"
      ],
      "text/plain": [
       "     [,1] [,2] [,3] [,4]\n",
       "[1,] 2    5    4    2   \n",
       "[2,] 4    1    2    7   "
      ]
     },
     "metadata": {},
     "output_type": "display_data"
    },
    {
     "data": {
      "text/html": [
       "'Adding Rows'"
      ],
      "text/latex": [
       "'Adding Rows'"
      ],
      "text/markdown": [
       "'Adding Rows'"
      ],
      "text/plain": [
       "[1] \"Adding Rows\""
      ]
     },
     "metadata": {},
     "output_type": "display_data"
    },
    {
     "data": {
      "text/html": [
       "<table>\n",
       "<tbody>\n",
       "\t<tr><td>apple </td><td>cherry</td></tr>\n",
       "\t<tr><td>banana</td><td>orange</td></tr>\n",
       "</tbody>\n",
       "</table>\n"
      ],
      "text/latex": [
       "\\begin{tabular}{ll}\n",
       "\t apple  & cherry\\\\\n",
       "\t banana & orange\\\\\n",
       "\\end{tabular}\n"
      ],
      "text/markdown": [
       "\n",
       "| apple  | cherry |\n",
       "| banana | orange |\n",
       "\n"
      ],
      "text/plain": [
       "     [,1]   [,2]  \n",
       "[1,] apple  cherry\n",
       "[2,] banana orange"
      ]
     },
     "metadata": {},
     "output_type": "display_data"
    },
    {
     "data": {
      "text/html": [
       "<table>\n",
       "<tbody>\n",
       "\t<tr><td>apple </td><td>cherry</td></tr>\n",
       "\t<tr><td>banana</td><td>orange</td></tr>\n",
       "\t<tr><td>Pear  </td><td>Kiwi  </td></tr>\n",
       "</tbody>\n",
       "</table>\n"
      ],
      "text/latex": [
       "\\begin{tabular}{ll}\n",
       "\t apple  & cherry\\\\\n",
       "\t banana & orange\\\\\n",
       "\t Pear   & Kiwi  \\\\\n",
       "\\end{tabular}\n"
      ],
      "text/markdown": [
       "\n",
       "| apple  | cherry |\n",
       "| banana | orange |\n",
       "| Pear   | Kiwi   |\n",
       "\n"
      ],
      "text/plain": [
       "     [,1]   [,2]  \n",
       "[1,] apple  cherry\n",
       "[2,] banana orange\n",
       "[3,] Pear   Kiwi  "
      ]
     },
     "metadata": {},
     "output_type": "display_data"
    }
   ],
   "source": [
    "# Add rows and cols\n",
    "\"Adding Cols\"\n",
    "m1\n",
    "new_m1 <- cbind(m1, c(2,7))\n",
    "new_m1\n",
    "'Adding Rows'\n",
    "m2\n",
    "new_m2 <- rbind(m2, c(\"Pear\", \"Kiwi\"))\n",
    "new_m2"
   ]
  },
  {
   "cell_type": "code",
   "execution_count": 60,
   "id": "bfa058ac-8dd6-46d7-8d47-72f7db2757f0",
   "metadata": {},
   "outputs": [
    {
     "data": {
      "text/html": [
       "<table>\n",
       "<tbody>\n",
       "\t<tr><td>11</td><td>14</td><td>17</td></tr>\n",
       "\t<tr><td>12</td><td>15</td><td>18</td></tr>\n",
       "\t<tr><td>13</td><td>16</td><td>19</td></tr>\n",
       "</tbody>\n",
       "</table>\n"
      ],
      "text/latex": [
       "\\begin{tabular}{lll}\n",
       "\t 11 & 14 & 17\\\\\n",
       "\t 12 & 15 & 18\\\\\n",
       "\t 13 & 16 & 19\\\\\n",
       "\\end{tabular}\n"
      ],
      "text/markdown": [
       "\n",
       "| 11 | 14 | 17 |\n",
       "| 12 | 15 | 18 |\n",
       "| 13 | 16 | 19 |\n",
       "\n"
      ],
      "text/plain": [
       "     [,1] [,2] [,3]\n",
       "[1,] 11   14   17  \n",
       "[2,] 12   15   18  \n",
       "[3,] 13   16   19  "
      ]
     },
     "metadata": {},
     "output_type": "display_data"
    },
    {
     "data": {
      "text/html": [
       "<table>\n",
       "<tbody>\n",
       "\t<tr><td>15</td><td>18</td></tr>\n",
       "\t<tr><td>16</td><td>19</td></tr>\n",
       "</tbody>\n",
       "</table>\n"
      ],
      "text/latex": [
       "\\begin{tabular}{ll}\n",
       "\t 15 & 18\\\\\n",
       "\t 16 & 19\\\\\n",
       "\\end{tabular}\n"
      ],
      "text/markdown": [
       "\n",
       "| 15 | 18 |\n",
       "| 16 | 19 |\n",
       "\n"
      ],
      "text/plain": [
       "     [,1] [,2]\n",
       "[1,] 15   18  \n",
       "[2,] 16   19  "
      ]
     },
     "metadata": {},
     "output_type": "display_data"
    },
    {
     "data": {
      "text/html": [
       "<table>\n",
       "<tbody>\n",
       "\t<tr><td>14</td><td>17</td></tr>\n",
       "\t<tr><td>16</td><td>19</td></tr>\n",
       "</tbody>\n",
       "</table>\n"
      ],
      "text/latex": [
       "\\begin{tabular}{ll}\n",
       "\t 14 & 17\\\\\n",
       "\t 16 & 19\\\\\n",
       "\\end{tabular}\n"
      ],
      "text/markdown": [
       "\n",
       "| 14 | 17 |\n",
       "| 16 | 19 |\n",
       "\n"
      ],
      "text/plain": [
       "     [,1] [,2]\n",
       "[1,] 14   17  \n",
       "[2,] 16   19  "
      ]
     },
     "metadata": {},
     "output_type": "display_data"
    }
   ],
   "source": [
    "# Remove rows and cols\n",
    "matrix1 <- matrix(c(11, 12, 13, 14, 15, 16, 17, 18, 19), ncol = 3, nrow = 3)\n",
    "matrix2 <- matrix1[-c(1), -c(1)]\n",
    "matrix3 <- matrix1[-c(2), -c(1)]\n",
    "matrix1\n",
    "matrix2\n",
    "matrix3"
   ]
  },
  {
   "cell_type": "code",
   "execution_count": 61,
   "id": "ddf69828-0d5e-4161-939f-6754321f09b5",
   "metadata": {},
   "outputs": [
    {
     "data": {
      "text/html": [
       "TRUE"
      ],
      "text/latex": [
       "TRUE"
      ],
      "text/markdown": [
       "TRUE"
      ],
      "text/plain": [
       "[1] TRUE"
      ]
     },
     "metadata": {},
     "output_type": "display_data"
    }
   ],
   "source": [
    "# Check if its there\n",
    "m2 <- matrix(c(\"apple\", \"banana\", \"cherry\", \"orange\"), nrow = 2, ncol = 2)\n",
    "\"apple\" %in% m2"
   ]
  },
  {
   "cell_type": "code",
   "execution_count": 64,
   "id": "a50c3eb3-0c07-41ac-8001-a46d4e3300db",
   "metadata": {},
   "outputs": [
    {
     "data": {
      "text/html": [
       "<ol class=list-inline>\n",
       "\t<li>2</li>\n",
       "\t<li>2</li>\n",
       "</ol>\n"
      ],
      "text/latex": [
       "\\begin{enumerate*}\n",
       "\\item 2\n",
       "\\item 2\n",
       "\\end{enumerate*}\n"
      ],
      "text/markdown": [
       "1. 2\n",
       "2. 2\n",
       "\n",
       "\n"
      ],
      "text/plain": [
       "[1] 2 2"
      ]
     },
     "metadata": {},
     "output_type": "display_data"
    },
    {
     "data": {
      "text/html": [
       "4"
      ],
      "text/latex": [
       "4"
      ],
      "text/markdown": [
       "4"
      ],
      "text/plain": [
       "[1] 4"
      ]
     },
     "metadata": {},
     "output_type": "display_data"
    }
   ],
   "source": [
    "# Dimensions / number of elements\n",
    "dim(m2)\n",
    "# Length\n",
    "length(m2)      # multiples the dimensions"
   ]
  },
  {
   "cell_type": "code",
   "execution_count": 66,
   "id": "be5256a7-5aea-454c-b930-e8f074670e60",
   "metadata": {},
   "outputs": [
    {
     "name": "stdout",
     "output_type": "stream",
     "text": [
      "[1] \"apple\"\n",
      "[1] \"cherry\"\n",
      "[1] \"banana\"\n",
      "[1] \"orange\"\n"
     ]
    }
   ],
   "source": [
    "# Loops\n",
    "thismatrix <- matrix(c(\"apple\", \"banana\", \"cherry\", \"orange\"), nrow = 2, ncol = 2)\n",
    "\n",
    "for (rows in 1:nrow(thismatrix)) {\n",
    "  for (columns in 1:ncol(thismatrix)) {\n",
    "    print(thismatrix[rows, columns])\n",
    "  }\n",
    "}"
   ]
  },
  {
   "cell_type": "code",
   "execution_count": 69,
   "id": "b92d968e-f90e-4aca-9dbe-714c502e3e44",
   "metadata": {},
   "outputs": [
    {
     "data": {
      "text/html": [
       "'Original matrices'"
      ],
      "text/latex": [
       "'Original matrices'"
      ],
      "text/markdown": [
       "'Original matrices'"
      ],
      "text/plain": [
       "[1] \"Original matrices\""
      ]
     },
     "metadata": {},
     "output_type": "display_data"
    },
    {
     "data": {
      "text/html": [
       "<table>\n",
       "<tbody>\n",
       "\t<tr><td>apple </td><td>cherry</td></tr>\n",
       "\t<tr><td>banana</td><td>orange</td></tr>\n",
       "</tbody>\n",
       "</table>\n"
      ],
      "text/latex": [
       "\\begin{tabular}{ll}\n",
       "\t apple  & cherry\\\\\n",
       "\t banana & orange\\\\\n",
       "\\end{tabular}\n"
      ],
      "text/markdown": [
       "\n",
       "| apple  | cherry |\n",
       "| banana | orange |\n",
       "\n"
      ],
      "text/plain": [
       "     [,1]   [,2]  \n",
       "[1,] apple  cherry\n",
       "[2,] banana orange"
      ]
     },
     "metadata": {},
     "output_type": "display_data"
    },
    {
     "data": {
      "text/html": [
       "<table>\n",
       "<tbody>\n",
       "\t<tr><td>pear     </td><td>blueberry</td></tr>\n",
       "\t<tr><td>kiwi     </td><td>jackfruit</td></tr>\n",
       "</tbody>\n",
       "</table>\n"
      ],
      "text/latex": [
       "\\begin{tabular}{ll}\n",
       "\t pear      & blueberry\\\\\n",
       "\t kiwi      & jackfruit\\\\\n",
       "\\end{tabular}\n"
      ],
      "text/markdown": [
       "\n",
       "| pear      | blueberry |\n",
       "| kiwi      | jackfruit |\n",
       "\n"
      ],
      "text/plain": [
       "     [,1] [,2]     \n",
       "[1,] pear blueberry\n",
       "[2,] kiwi jackfruit"
      ]
     },
     "metadata": {},
     "output_type": "display_data"
    },
    {
     "data": {
      "text/html": [
       "''"
      ],
      "text/latex": [
       "''"
      ],
      "text/markdown": [
       "''"
      ],
      "text/plain": [
       "[1] \"\""
      ]
     },
     "metadata": {},
     "output_type": "display_data"
    },
    {
     "data": {
      "text/html": [
       "'Combined matrices'"
      ],
      "text/latex": [
       "'Combined matrices'"
      ],
      "text/markdown": [
       "'Combined matrices'"
      ],
      "text/plain": [
       "[1] \"Combined matrices\""
      ]
     },
     "metadata": {},
     "output_type": "display_data"
    },
    {
     "data": {
      "text/html": [
       "<table>\n",
       "<tbody>\n",
       "\t<tr><td>apple    </td><td>cherry   </td><td>pear     </td><td>blueberry</td></tr>\n",
       "\t<tr><td>banana   </td><td>orange   </td><td>kiwi     </td><td>jackfruit</td></tr>\n",
       "</tbody>\n",
       "</table>\n"
      ],
      "text/latex": [
       "\\begin{tabular}{llll}\n",
       "\t apple     & cherry    & pear      & blueberry\\\\\n",
       "\t banana    & orange    & kiwi      & jackfruit\\\\\n",
       "\\end{tabular}\n"
      ],
      "text/markdown": [
       "\n",
       "| apple     | cherry    | pear      | blueberry |\n",
       "| banana    | orange    | kiwi      | jackfruit |\n",
       "\n"
      ],
      "text/plain": [
       "     [,1]   [,2]   [,3] [,4]     \n",
       "[1,] apple  cherry pear blueberry\n",
       "[2,] banana orange kiwi jackfruit"
      ]
     },
     "metadata": {},
     "output_type": "display_data"
    },
    {
     "data": {
      "text/html": [
       "<table>\n",
       "<tbody>\n",
       "\t<tr><td>apple    </td><td>cherry   </td></tr>\n",
       "\t<tr><td>banana   </td><td>orange   </td></tr>\n",
       "\t<tr><td>pear     </td><td>blueberry</td></tr>\n",
       "\t<tr><td>kiwi     </td><td>jackfruit</td></tr>\n",
       "</tbody>\n",
       "</table>\n"
      ],
      "text/latex": [
       "\\begin{tabular}{ll}\n",
       "\t apple     & cherry   \\\\\n",
       "\t banana    & orange   \\\\\n",
       "\t pear      & blueberry\\\\\n",
       "\t kiwi      & jackfruit\\\\\n",
       "\\end{tabular}\n"
      ],
      "text/markdown": [
       "\n",
       "| apple     | cherry    |\n",
       "| banana    | orange    |\n",
       "| pear      | blueberry |\n",
       "| kiwi      | jackfruit |\n",
       "\n"
      ],
      "text/plain": [
       "     [,1]   [,2]     \n",
       "[1,] apple  cherry   \n",
       "[2,] banana orange   \n",
       "[3,] pear   blueberry\n",
       "[4,] kiwi   jackfruit"
      ]
     },
     "metadata": {},
     "output_type": "display_data"
    }
   ],
   "source": [
    "# Combine Two matrices\n",
    "mx1 <- matrix(c(\"apple\", \"banana\", \"cherry\", \"orange\"), nrow = 2, ncol = 2)\n",
    "mx2 <- matrix(c(\"pear\", \"kiwi\", \"blueberry\", \"jackfruit\"), nrow = 2, ncol = 2)\n",
    "\"Original matrices\"\n",
    "mx1\n",
    "mx2\n",
    "\"\"\n",
    "c_combined <- cbind(mx1, mx2)\n",
    "r_combined <- rbind(mx1, mx2)\n",
    "'Combined matrices'\n",
    "c_combined\n",
    "r_combined"
   ]
  },
  {
   "cell_type": "code",
   "execution_count": 76,
   "id": "51d2e378-0004-43c1-8546-69bc1dbbde32",
   "metadata": {},
   "outputs": [
    {
     "data": {
      "text/html": [
       "<ol class=list-inline>\n",
       "\t<li>1</li>\n",
       "\t<li>2</li>\n",
       "\t<li>3</li>\n",
       "\t<li>4</li>\n",
       "\t<li>5</li>\n",
       "\t<li>6</li>\n",
       "\t<li>7</li>\n",
       "\t<li>8</li>\n",
       "\t<li>9</li>\n",
       "\t<li>10</li>\n",
       "\t<li>11</li>\n",
       "\t<li>12</li>\n",
       "\t<li>13</li>\n",
       "\t<li>14</li>\n",
       "\t<li>15</li>\n",
       "\t<li>16</li>\n",
       "\t<li>17</li>\n",
       "\t<li>18</li>\n",
       "\t<li>19</li>\n",
       "\t<li>20</li>\n",
       "\t<li>21</li>\n",
       "\t<li>22</li>\n",
       "\t<li>23</li>\n",
       "\t<li>24</li>\n",
       "</ol>\n"
      ],
      "text/latex": [
       "\\begin{enumerate*}\n",
       "\\item 1\n",
       "\\item 2\n",
       "\\item 3\n",
       "\\item 4\n",
       "\\item 5\n",
       "\\item 6\n",
       "\\item 7\n",
       "\\item 8\n",
       "\\item 9\n",
       "\\item 10\n",
       "\\item 11\n",
       "\\item 12\n",
       "\\item 13\n",
       "\\item 14\n",
       "\\item 15\n",
       "\\item 16\n",
       "\\item 17\n",
       "\\item 18\n",
       "\\item 19\n",
       "\\item 20\n",
       "\\item 21\n",
       "\\item 22\n",
       "\\item 23\n",
       "\\item 24\n",
       "\\end{enumerate*}\n"
      ],
      "text/markdown": [
       "1. 1\n",
       "2. 2\n",
       "3. 3\n",
       "4. 4\n",
       "5. 5\n",
       "6. 6\n",
       "7. 7\n",
       "8. 8\n",
       "9. 9\n",
       "10. 10\n",
       "11. 11\n",
       "12. 12\n",
       "13. 13\n",
       "14. 14\n",
       "15. 15\n",
       "16. 16\n",
       "17. 17\n",
       "18. 18\n",
       "19. 19\n",
       "20. 20\n",
       "21. 21\n",
       "22. 22\n",
       "23. 23\n",
       "24. 24\n",
       "\n",
       "\n"
      ],
      "text/plain": [
       ", , 1\n",
       "\n",
       "     [,1] [,2] [,3]\n",
       "[1,]    1    5    9\n",
       "[2,]    2    6   10\n",
       "[3,]    3    7   11\n",
       "[4,]    4    8   12\n",
       "\n",
       ", , 2\n",
       "\n",
       "     [,1] [,2] [,3]\n",
       "[1,]   13   17   21\n",
       "[2,]   14   18   22\n",
       "[3,]   15   19   23\n",
       "[4,]   16   20   24\n"
      ]
     },
     "metadata": {},
     "output_type": "display_data"
    }
   ],
   "source": [
    "# Arrays\n",
    "thisarray <- c(1:24)\n",
    "arr2 <- array(thisarray, dim = c(4, 3, 2))\n",
    "# The first and second number in the bracket specifies the amount of rows and columns.\n",
    "# The last number in the bracket specifies how many dimensions we want.\n",
    "arr2"
   ]
  },
  {
   "cell_type": "code",
   "execution_count": 81,
   "id": "51c7bd04-4229-4c2f-a349-11ff4214a3e4",
   "metadata": {},
   "outputs": [
    {
     "data": {
      "text/html": [
       "22"
      ],
      "text/latex": [
       "22"
      ],
      "text/markdown": [
       "22"
      ],
      "text/plain": [
       "[1] 22"
      ]
     },
     "metadata": {},
     "output_type": "display_data"
    },
    {
     "data": {
      "text/html": [
       "<ol class=list-inline>\n",
       "\t<li>1</li>\n",
       "\t<li>5</li>\n",
       "\t<li>9</li>\n",
       "</ol>\n"
      ],
      "text/latex": [
       "\\begin{enumerate*}\n",
       "\\item 1\n",
       "\\item 5\n",
       "\\item 9\n",
       "\\end{enumerate*}\n"
      ],
      "text/markdown": [
       "1. 1\n",
       "2. 5\n",
       "3. 9\n",
       "\n",
       "\n"
      ],
      "text/plain": [
       "[1] 1 5 9"
      ]
     },
     "metadata": {},
     "output_type": "display_data"
    },
    {
     "data": {
      "text/html": [
       "<ol class=list-inline>\n",
       "\t<li>1</li>\n",
       "\t<li>2</li>\n",
       "\t<li>3</li>\n",
       "\t<li>4</li>\n",
       "</ol>\n"
      ],
      "text/latex": [
       "\\begin{enumerate*}\n",
       "\\item 1\n",
       "\\item 2\n",
       "\\item 3\n",
       "\\item 4\n",
       "\\end{enumerate*}\n"
      ],
      "text/markdown": [
       "1. 1\n",
       "2. 2\n",
       "3. 3\n",
       "4. 4\n",
       "\n",
       "\n"
      ],
      "text/plain": [
       "[1] 1 2 3 4"
      ]
     },
     "metadata": {},
     "output_type": "display_data"
    }
   ],
   "source": [
    "# Access\n",
    "arr2[2, 3, 2]     # The syntax is as follow: array[row position, column position, matrix level]\n",
    "arr2[c(1),,1]\n",
    "arr2[,c(1),1]"
   ]
  },
  {
   "cell_type": "code",
   "execution_count": 82,
   "id": "828b13bc-4bd3-49ac-8934-94a772a1253c",
   "metadata": {},
   "outputs": [
    {
     "data": {
      "text/html": [
       "TRUE"
      ],
      "text/latex": [
       "TRUE"
      ],
      "text/markdown": [
       "TRUE"
      ],
      "text/plain": [
       "[1] TRUE"
      ]
     },
     "metadata": {},
     "output_type": "display_data"
    }
   ],
   "source": [
    "# Check if it exists\n",
    "2 %in% arr2"
   ]
  },
  {
   "cell_type": "code",
   "execution_count": 85,
   "id": "d45bc5fd-c3e5-42d5-befa-404ff340ec83",
   "metadata": {},
   "outputs": [
    {
     "data": {
      "text/html": [
       "<ol class=list-inline>\n",
       "\t<li>4</li>\n",
       "\t<li>3</li>\n",
       "\t<li>2</li>\n",
       "</ol>\n"
      ],
      "text/latex": [
       "\\begin{enumerate*}\n",
       "\\item 4\n",
       "\\item 3\n",
       "\\item 2\n",
       "\\end{enumerate*}\n"
      ],
      "text/markdown": [
       "1. 4\n",
       "2. 3\n",
       "3. 2\n",
       "\n",
       "\n"
      ],
      "text/plain": [
       "[1] 4 3 2"
      ]
     },
     "metadata": {},
     "output_type": "display_data"
    },
    {
     "data": {
      "text/html": [
       "24"
      ],
      "text/latex": [
       "24"
      ],
      "text/markdown": [
       "24"
      ],
      "text/plain": [
       "[1] 24"
      ]
     },
     "metadata": {},
     "output_type": "display_data"
    }
   ],
   "source": [
    "# Dimension / length\n",
    "dim(arr2)\n",
    "length(arr2)"
   ]
  },
  {
   "cell_type": "code",
   "execution_count": 86,
   "id": "42fc2458-7abc-4ddb-be2b-46f5e891f86d",
   "metadata": {},
   "outputs": [
    {
     "name": "stdout",
     "output_type": "stream",
     "text": [
      "[1] 1\n",
      "[1] 2\n",
      "[1] 3\n",
      "[1] 4\n",
      "[1] 5\n",
      "[1] 6\n",
      "[1] 7\n",
      "[1] 8\n",
      "[1] 9\n",
      "[1] 10\n",
      "[1] 11\n",
      "[1] 12\n",
      "[1] 13\n",
      "[1] 14\n",
      "[1] 15\n",
      "[1] 16\n",
      "[1] 17\n",
      "[1] 18\n",
      "[1] 19\n",
      "[1] 20\n",
      "[1] 21\n",
      "[1] 22\n",
      "[1] 23\n",
      "[1] 24\n"
     ]
    }
   ],
   "source": [
    "# Loop\n",
    "for(x in arr2){\n",
    "  print(x)\n",
    "}"
   ]
  },
  {
   "cell_type": "code",
   "execution_count": 88,
   "id": "b3561b8a-6409-4889-8927-abf63e4ede35",
   "metadata": {},
   "outputs": [
    {
     "data": {
      "text/html": [
       "<table>\n",
       "<thead><tr><th scope=col>Subject</th><th scope=col>Credits</th><th scope=col>Duration</th></tr></thead>\n",
       "<tbody>\n",
       "\t<tr><td>Economics</td><td>4        </td><td>30       </td></tr>\n",
       "\t<tr><td>DS       </td><td>5        </td><td>60       </td></tr>\n",
       "\t<tr><td>Maths    </td><td>7        </td><td>75       </td></tr>\n",
       "</tbody>\n",
       "</table>\n"
      ],
      "text/latex": [
       "\\begin{tabular}{r|lll}\n",
       " Subject & Credits & Duration\\\\\n",
       "\\hline\n",
       "\t Economics & 4         & 30       \\\\\n",
       "\t DS        & 5         & 60       \\\\\n",
       "\t Maths     & 7         & 75       \\\\\n",
       "\\end{tabular}\n"
      ],
      "text/markdown": [
       "\n",
       "| Subject | Credits | Duration |\n",
       "|---|---|---|\n",
       "| Economics | 4         | 30        |\n",
       "| DS        | 5         | 60        |\n",
       "| Maths     | 7         | 75        |\n",
       "\n"
      ],
      "text/plain": [
       "  Subject   Credits Duration\n",
       "1 Economics 4       30      \n",
       "2 DS        5       60      \n",
       "3 Maths     7       75      "
      ]
     },
     "metadata": {},
     "output_type": "display_data"
    }
   ],
   "source": [
    "# DATAFRAMES\n",
    "Data_Frame <- data.frame (\n",
    "  Subject = c(\"Economics\", \"DS\", \"Maths\"),\n",
    "  Credits = c(4, 5, 7),\n",
    "  Duration = c(30, 60, 75)\n",
    ")\n",
    "Data_Frame"
   ]
  },
  {
   "cell_type": "code",
   "execution_count": 89,
   "id": "c4431c67-f4f6-4849-9a0f-4a64b3491bba",
   "metadata": {},
   "outputs": [
    {
     "data": {
      "text/plain": [
       "      Subject     Credits         Duration   \n",
       " DS       :1   Min.   :4.000   Min.   :30.0  \n",
       " Economics:1   1st Qu.:4.500   1st Qu.:45.0  \n",
       " Maths    :1   Median :5.000   Median :60.0  \n",
       "               Mean   :5.333   Mean   :55.0  \n",
       "               3rd Qu.:6.000   3rd Qu.:67.5  \n",
       "               Max.   :7.000   Max.   :75.0  "
      ]
     },
     "metadata": {},
     "output_type": "display_data"
    }
   ],
   "source": [
    "#Summarize the table\n",
    "summary(Data_Frame)"
   ]
  },
  {
   "cell_type": "code",
   "execution_count": 91,
   "id": "945b62bc-bb80-4d23-9713-3171ff176927",
   "metadata": {},
   "outputs": [
    {
     "data": {
      "text/html": [
       "<table>\n",
       "<thead><tr><th scope=col>Subject</th></tr></thead>\n",
       "<tbody>\n",
       "\t<tr><td>Economics</td></tr>\n",
       "\t<tr><td>DS       </td></tr>\n",
       "\t<tr><td>Maths    </td></tr>\n",
       "</tbody>\n",
       "</table>\n"
      ],
      "text/latex": [
       "\\begin{tabular}{r|l}\n",
       " Subject\\\\\n",
       "\\hline\n",
       "\t Economics\\\\\n",
       "\t DS       \\\\\n",
       "\t Maths    \\\\\n",
       "\\end{tabular}\n"
      ],
      "text/markdown": [
       "\n",
       "| Subject |\n",
       "|---|\n",
       "| Economics |\n",
       "| DS        |\n",
       "| Maths     |\n",
       "\n"
      ],
      "text/plain": [
       "  Subject  \n",
       "1 Economics\n",
       "2 DS       \n",
       "3 Maths    "
      ]
     },
     "metadata": {},
     "output_type": "display_data"
    },
    {
     "data": {
      "text/html": [
       "<ol class=list-inline>\n",
       "\t<li>Economics</li>\n",
       "\t<li>DS</li>\n",
       "\t<li>Maths</li>\n",
       "</ol>\n",
       "\n",
       "<details>\n",
       "\t<summary style=display:list-item;cursor:pointer>\n",
       "\t\t<strong>Levels</strong>:\n",
       "\t</summary>\n",
       "\t<ol class=list-inline>\n",
       "\t\t<li>'DS'</li>\n",
       "\t\t<li>'Economics'</li>\n",
       "\t\t<li>'Maths'</li>\n",
       "\t</ol>\n",
       "</details>"
      ],
      "text/latex": [
       "\\begin{enumerate*}\n",
       "\\item Economics\n",
       "\\item DS\n",
       "\\item Maths\n",
       "\\end{enumerate*}\n",
       "\n",
       "\\emph{Levels}: \\begin{enumerate*}\n",
       "\\item 'DS'\n",
       "\\item 'Economics'\n",
       "\\item 'Maths'\n",
       "\\end{enumerate*}\n"
      ],
      "text/markdown": [
       "1. Economics\n",
       "2. DS\n",
       "3. Maths\n",
       "\n",
       "\n",
       "\n",
       "**Levels**: 1. 'DS'\n",
       "2. 'Economics'\n",
       "3. 'Maths'\n",
       "\n",
       "\n"
      ],
      "text/plain": [
       "[1] Economics DS        Maths    \n",
       "Levels: DS Economics Maths"
      ]
     },
     "metadata": {},
     "output_type": "display_data"
    },
    {
     "data": {
      "text/html": [
       "<ol class=list-inline>\n",
       "\t<li>Economics</li>\n",
       "\t<li>DS</li>\n",
       "\t<li>Maths</li>\n",
       "</ol>\n",
       "\n",
       "<details>\n",
       "\t<summary style=display:list-item;cursor:pointer>\n",
       "\t\t<strong>Levels</strong>:\n",
       "\t</summary>\n",
       "\t<ol class=list-inline>\n",
       "\t\t<li>'DS'</li>\n",
       "\t\t<li>'Economics'</li>\n",
       "\t\t<li>'Maths'</li>\n",
       "\t</ol>\n",
       "</details>"
      ],
      "text/latex": [
       "\\begin{enumerate*}\n",
       "\\item Economics\n",
       "\\item DS\n",
       "\\item Maths\n",
       "\\end{enumerate*}\n",
       "\n",
       "\\emph{Levels}: \\begin{enumerate*}\n",
       "\\item 'DS'\n",
       "\\item 'Economics'\n",
       "\\item 'Maths'\n",
       "\\end{enumerate*}\n"
      ],
      "text/markdown": [
       "1. Economics\n",
       "2. DS\n",
       "3. Maths\n",
       "\n",
       "\n",
       "\n",
       "**Levels**: 1. 'DS'\n",
       "2. 'Economics'\n",
       "3. 'Maths'\n",
       "\n",
       "\n"
      ],
      "text/plain": [
       "[1] Economics DS        Maths    \n",
       "Levels: DS Economics Maths"
      ]
     },
     "metadata": {},
     "output_type": "display_data"
    }
   ],
   "source": [
    "# Access items\n",
    "# We can use single brackets [ ], double brackets [[ ]] or $ to access columns from a data frame\n",
    "Data_Frame[1]\n",
    "Data_Frame[[\"Subject\"]]\n",
    "Data_Frame$Subject"
   ]
  },
  {
   "cell_type": "code",
   "execution_count": 96,
   "id": "87d1f363-3bf3-43ea-9789-5eefed9c98c5",
   "metadata": {},
   "outputs": [
    {
     "data": {
      "text/html": [
       "<table>\n",
       "<thead><tr><th scope=col>Subject</th><th scope=col>Credits</th><th scope=col>Duration</th></tr></thead>\n",
       "<tbody>\n",
       "\t<tr><td>Economics</td><td>4        </td><td>30       </td></tr>\n",
       "\t<tr><td>DS       </td><td>5        </td><td>60       </td></tr>\n",
       "\t<tr><td>Maths    </td><td>7        </td><td>75       </td></tr>\n",
       "\t<tr><td>Economics</td><td>7        </td><td>90       </td></tr>\n",
       "</tbody>\n",
       "</table>\n"
      ],
      "text/latex": [
       "\\begin{tabular}{r|lll}\n",
       " Subject & Credits & Duration\\\\\n",
       "\\hline\n",
       "\t Economics & 4         & 30       \\\\\n",
       "\t DS        & 5         & 60       \\\\\n",
       "\t Maths     & 7         & 75       \\\\\n",
       "\t Economics & 7         & 90       \\\\\n",
       "\\end{tabular}\n"
      ],
      "text/markdown": [
       "\n",
       "| Subject | Credits | Duration |\n",
       "|---|---|---|\n",
       "| Economics | 4         | 30        |\n",
       "| DS        | 5         | 60        |\n",
       "| Maths     | 7         | 75        |\n",
       "| Economics | 7         | 90        |\n",
       "\n"
      ],
      "text/plain": [
       "  Subject   Credits Duration\n",
       "1 Economics 4       30      \n",
       "2 DS        5       60      \n",
       "3 Maths     7       75      \n",
       "4 Economics 7       90      "
      ]
     },
     "metadata": {},
     "output_type": "display_data"
    },
    {
     "data": {
      "text/html": [
       "<table>\n",
       "<thead><tr><th scope=col>Subject</th><th scope=col>Credits</th><th scope=col>Duration</th><th scope=col>Fees</th></tr></thead>\n",
       "<tbody>\n",
       "\t<tr><td>Economics</td><td>4        </td><td>30       </td><td>1000     </td></tr>\n",
       "\t<tr><td>DS       </td><td>5        </td><td>60       </td><td>6000     </td></tr>\n",
       "\t<tr><td>Maths    </td><td>7        </td><td>75       </td><td>2000     </td></tr>\n",
       "</tbody>\n",
       "</table>\n"
      ],
      "text/latex": [
       "\\begin{tabular}{r|llll}\n",
       " Subject & Credits & Duration & Fees\\\\\n",
       "\\hline\n",
       "\t Economics & 4         & 30        & 1000     \\\\\n",
       "\t DS        & 5         & 60        & 6000     \\\\\n",
       "\t Maths     & 7         & 75        & 2000     \\\\\n",
       "\\end{tabular}\n"
      ],
      "text/markdown": [
       "\n",
       "| Subject | Credits | Duration | Fees |\n",
       "|---|---|---|---|\n",
       "| Economics | 4         | 30        | 1000      |\n",
       "| DS        | 5         | 60        | 6000      |\n",
       "| Maths     | 7         | 75        | 2000      |\n",
       "\n"
      ],
      "text/plain": [
       "  Subject   Credits Duration Fees\n",
       "1 Economics 4       30       1000\n",
       "2 DS        5       60       6000\n",
       "3 Maths     7       75       2000"
      ]
     },
     "metadata": {},
     "output_type": "display_data"
    },
    {
     "data": {
      "text/html": [
       "<table>\n",
       "<thead><tr><th></th><th scope=col>Credits</th><th scope=col>Duration</th></tr></thead>\n",
       "<tbody>\n",
       "\t<tr><th scope=row>2</th><td>5 </td><td>60</td></tr>\n",
       "\t<tr><th scope=row>3</th><td>7 </td><td>75</td></tr>\n",
       "</tbody>\n",
       "</table>\n"
      ],
      "text/latex": [
       "\\begin{tabular}{r|ll}\n",
       "  & Credits & Duration\\\\\n",
       "\\hline\n",
       "\t2 & 5  & 60\\\\\n",
       "\t3 & 7  & 75\\\\\n",
       "\\end{tabular}\n"
      ],
      "text/markdown": [
       "\n",
       "| <!--/--> | Credits | Duration |\n",
       "|---|---|---|\n",
       "| 2 | 5  | 60 |\n",
       "| 3 | 7  | 75 |\n",
       "\n"
      ],
      "text/plain": [
       "  Credits Duration\n",
       "2 5       60      \n",
       "3 7       75      "
      ]
     },
     "metadata": {},
     "output_type": "display_data"
    }
   ],
   "source": [
    "# Add a new row\n",
    "New_row_DF <- rbind(Data_Frame, c(\"Economics\", 7, 90))\n",
    "# Add a new column\n",
    "New_col_DF <- cbind(Data_Frame, Fees = c(1000, 6000, 2000))\n",
    "New_row_DF\n",
    "New_col_DF\n",
    "# Remove the first row and column\n",
    "Data_Frame_New <- Data_Frame[-c(1), -c(1)]\n",
    "Data_Frame_New"
   ]
  },
  {
   "cell_type": "code",
   "execution_count": 100,
   "id": "9c6895fc-d5fd-4d05-9252-038cbd84c06a",
   "metadata": {},
   "outputs": [
    {
     "data": {
      "text/html": [
       "<ol class=list-inline>\n",
       "\t<li>3</li>\n",
       "\t<li>3</li>\n",
       "</ol>\n"
      ],
      "text/latex": [
       "\\begin{enumerate*}\n",
       "\\item 3\n",
       "\\item 3\n",
       "\\end{enumerate*}\n"
      ],
      "text/markdown": [
       "1. 3\n",
       "2. 3\n",
       "\n",
       "\n"
      ],
      "text/plain": [
       "[1] 3 3"
      ]
     },
     "metadata": {},
     "output_type": "display_data"
    },
    {
     "data": {
      "text/html": [
       "'No. of cols'"
      ],
      "text/latex": [
       "'No. of cols'"
      ],
      "text/markdown": [
       "'No. of cols'"
      ],
      "text/plain": [
       "[1] \"No. of cols\""
      ]
     },
     "metadata": {},
     "output_type": "display_data"
    },
    {
     "data": {
      "text/html": [
       "3"
      ],
      "text/latex": [
       "3"
      ],
      "text/markdown": [
       "3"
      ],
      "text/plain": [
       "[1] 3"
      ]
     },
     "metadata": {},
     "output_type": "display_data"
    },
    {
     "data": {
      "text/html": [
       "'No. of rows'"
      ],
      "text/latex": [
       "'No. of rows'"
      ],
      "text/markdown": [
       "'No. of rows'"
      ],
      "text/plain": [
       "[1] \"No. of rows\""
      ]
     },
     "metadata": {},
     "output_type": "display_data"
    },
    {
     "data": {
      "text/html": [
       "3"
      ],
      "text/latex": [
       "3"
      ],
      "text/markdown": [
       "3"
      ],
      "text/plain": [
       "[1] 3"
      ]
     },
     "metadata": {},
     "output_type": "display_data"
    },
    {
     "data": {
      "text/html": [
       "'Length'"
      ],
      "text/latex": [
       "'Length'"
      ],
      "text/markdown": [
       "'Length'"
      ],
      "text/plain": [
       "[1] \"Length\""
      ]
     },
     "metadata": {},
     "output_type": "display_data"
    },
    {
     "data": {
      "text/html": [
       "3"
      ],
      "text/latex": [
       "3"
      ],
      "text/markdown": [
       "3"
      ],
      "text/plain": [
       "[1] 3"
      ]
     },
     "metadata": {},
     "output_type": "display_data"
    }
   ],
   "source": [
    "# Dimentions / length\n",
    "dim(Data_Frame)\n",
    "'No. of cols'\n",
    "ncol(Data_Frame)\n",
    "'No. of rows'\n",
    "nrow(Data_Frame)\n",
    "'Length'\n",
    "length(Data_Frame)"
   ]
  },
  {
   "cell_type": "code",
   "execution_count": 103,
   "id": "a56d66cc-5b9f-4abb-931e-97ee04463bf8",
   "metadata": {},
   "outputs": [
    {
     "data": {
      "text/html": [
       "<table>\n",
       "<thead><tr><th scope=col>Name</th><th scope=col>Year</th><th scope=col>Course</th><th scope=col>CGPA</th><th scope=col>Name</th><th scope=col>Year</th><th scope=col>Course</th><th scope=col>CGPA</th></tr></thead>\n",
       "<tbody>\n",
       "\t<tr><td>Abhay   </td><td>2005    </td><td>Bio-Math</td><td>8.9     </td><td>Aadya   </td><td>2005    </td><td>CS-Math </td><td>9.9     </td></tr>\n",
       "\t<tr><td>Akshay  </td><td>2004    </td><td>CS      </td><td>8.8     </td><td>Abhinaya</td><td>2004    </td><td>PCM     </td><td>7.8     </td></tr>\n",
       "\t<tr><td>Ashwin  </td><td>2006    </td><td>Commerce</td><td>9.0     </td><td>Arun    </td><td>2006    </td><td>Commerce</td><td>6.0     </td></tr>\n",
       "</tbody>\n",
       "</table>\n"
      ],
      "text/latex": [
       "\\begin{tabular}{r|llllllll}\n",
       " Name & Year & Course & CGPA & Name & Year & Course & CGPA\\\\\n",
       "\\hline\n",
       "\t Abhay    & 2005     & Bio-Math & 8.9      & Aadya    & 2005     & CS-Math  & 9.9     \\\\\n",
       "\t Akshay   & 2004     & CS       & 8.8      & Abhinaya & 2004     & PCM      & 7.8     \\\\\n",
       "\t Ashwin   & 2006     & Commerce & 9.0      & Arun     & 2006     & Commerce & 6.0     \\\\\n",
       "\\end{tabular}\n"
      ],
      "text/markdown": [
       "\n",
       "| Name | Year | Course | CGPA | Name | Year | Course | CGPA |\n",
       "|---|---|---|---|---|---|---|---|\n",
       "| Abhay    | 2005     | Bio-Math | 8.9      | Aadya    | 2005     | CS-Math  | 9.9      |\n",
       "| Akshay   | 2004     | CS       | 8.8      | Abhinaya | 2004     | PCM      | 7.8      |\n",
       "| Ashwin   | 2006     | Commerce | 9.0      | Arun     | 2006     | Commerce | 6.0      |\n",
       "\n"
      ],
      "text/plain": [
       "  Name   Year Course   CGPA Name     Year Course   CGPA\n",
       "1 Abhay  2005 Bio-Math 8.9  Aadya    2005 CS-Math  9.9 \n",
       "2 Akshay 2004 CS       8.8  Abhinaya 2004 PCM      7.8 \n",
       "3 Ashwin 2006 Commerce 9.0  Arun     2006 Commerce 6.0 "
      ]
     },
     "metadata": {},
     "output_type": "display_data"
    },
    {
     "data": {
      "text/html": [
       "<table>\n",
       "<thead><tr><th scope=col>Name</th><th scope=col>Year</th><th scope=col>Course</th><th scope=col>CGPA</th></tr></thead>\n",
       "<tbody>\n",
       "\t<tr><td>Abhay   </td><td>2005    </td><td>Bio-Math</td><td>8.9     </td></tr>\n",
       "\t<tr><td>Akshay  </td><td>2004    </td><td>CS      </td><td>8.8     </td></tr>\n",
       "\t<tr><td>Ashwin  </td><td>2006    </td><td>Commerce</td><td>9.0     </td></tr>\n",
       "\t<tr><td>Aadya   </td><td>2005    </td><td>CS-Math </td><td>9.9     </td></tr>\n",
       "\t<tr><td>Abhinaya</td><td>2004    </td><td>PCM     </td><td>7.8     </td></tr>\n",
       "\t<tr><td>Arun    </td><td>2006    </td><td>Commerce</td><td>6.0     </td></tr>\n",
       "</tbody>\n",
       "</table>\n"
      ],
      "text/latex": [
       "\\begin{tabular}{r|llll}\n",
       " Name & Year & Course & CGPA\\\\\n",
       "\\hline\n",
       "\t Abhay    & 2005     & Bio-Math & 8.9     \\\\\n",
       "\t Akshay   & 2004     & CS       & 8.8     \\\\\n",
       "\t Ashwin   & 2006     & Commerce & 9.0     \\\\\n",
       "\t Aadya    & 2005     & CS-Math  & 9.9     \\\\\n",
       "\t Abhinaya & 2004     & PCM      & 7.8     \\\\\n",
       "\t Arun     & 2006     & Commerce & 6.0     \\\\\n",
       "\\end{tabular}\n"
      ],
      "text/markdown": [
       "\n",
       "| Name | Year | Course | CGPA |\n",
       "|---|---|---|---|\n",
       "| Abhay    | 2005     | Bio-Math | 8.9      |\n",
       "| Akshay   | 2004     | CS       | 8.8      |\n",
       "| Ashwin   | 2006     | Commerce | 9.0      |\n",
       "| Aadya    | 2005     | CS-Math  | 9.9      |\n",
       "| Abhinaya | 2004     | PCM      | 7.8      |\n",
       "| Arun     | 2006     | Commerce | 6.0      |\n",
       "\n"
      ],
      "text/plain": [
       "  Name     Year Course   CGPA\n",
       "1 Abhay    2005 Bio-Math 8.9 \n",
       "2 Akshay   2004 CS       8.8 \n",
       "3 Ashwin   2006 Commerce 9.0 \n",
       "4 Aadya    2005 CS-Math  9.9 \n",
       "5 Abhinaya 2004 PCM      7.8 \n",
       "6 Arun     2006 Commerce 6.0 "
      ]
     },
     "metadata": {},
     "output_type": "display_data"
    }
   ],
   "source": [
    "# Combining 2 DFs\n",
    "df1 <- data.frame(\n",
    "    \"Name\" = c(\"Abhay\", \"Akshay\", \"Ashwin\"),\n",
    "    \"Year\" = c(2005, 2004, 2006),\n",
    "    \"Course\" = c(\"Bio-Math\", \"CS\", \"Commerce\"),\n",
    "    \"CGPA\" = c(8.9, 8.8, 9)\n",
    ")\n",
    "df2 <- data.frame(\n",
    "    \"Name\" = c(\"Aadya\", \"Abhinaya\", \"Arun\"),\n",
    "    \"Year\" = c(2005, 2004, 2006),\n",
    "    \"Course\" = c(\"CS-Math\", \"PCM\", \"Commerce\"),\n",
    "    \"CGPA\" = c(9.9, 7.8, 6)\n",
    ")\n",
    "\n",
    "c_com <- cbind(df1, df2)\n",
    "r_com <- rbind(df1, df2)\n",
    "c_com\n",
    "r_com"
   ]
  },
  {
   "cell_type": "code",
   "execution_count": 105,
   "id": "06efd283-598e-4f93-bc1a-051912a3a8db",
   "metadata": {},
   "outputs": [
    {
     "data": {
      "text/html": [
       "<ol class=list-inline>\n",
       "\t<li>Jazz</li>\n",
       "\t<li>Rock</li>\n",
       "\t<li>Classic</li>\n",
       "\t<li>Classic</li>\n",
       "\t<li>Pop</li>\n",
       "\t<li>Jazz</li>\n",
       "\t<li>Rock</li>\n",
       "\t<li>Jazz</li>\n",
       "</ol>\n",
       "\n",
       "<details>\n",
       "\t<summary style=display:list-item;cursor:pointer>\n",
       "\t\t<strong>Levels</strong>:\n",
       "\t</summary>\n",
       "\t<ol class=list-inline>\n",
       "\t\t<li>'Classic'</li>\n",
       "\t\t<li>'Jazz'</li>\n",
       "\t\t<li>'Pop'</li>\n",
       "\t\t<li>'Rock'</li>\n",
       "\t</ol>\n",
       "</details>"
      ],
      "text/latex": [
       "\\begin{enumerate*}\n",
       "\\item Jazz\n",
       "\\item Rock\n",
       "\\item Classic\n",
       "\\item Classic\n",
       "\\item Pop\n",
       "\\item Jazz\n",
       "\\item Rock\n",
       "\\item Jazz\n",
       "\\end{enumerate*}\n",
       "\n",
       "\\emph{Levels}: \\begin{enumerate*}\n",
       "\\item 'Classic'\n",
       "\\item 'Jazz'\n",
       "\\item 'Pop'\n",
       "\\item 'Rock'\n",
       "\\end{enumerate*}\n"
      ],
      "text/markdown": [
       "1. Jazz\n",
       "2. Rock\n",
       "3. Classic\n",
       "4. Classic\n",
       "5. Pop\n",
       "6. Jazz\n",
       "7. Rock\n",
       "8. Jazz\n",
       "\n",
       "\n",
       "\n",
       "**Levels**: 1. 'Classic'\n",
       "2. 'Jazz'\n",
       "3. 'Pop'\n",
       "4. 'Rock'\n",
       "\n",
       "\n"
      ],
      "text/plain": [
       "[1] Jazz    Rock    Classic Classic Pop     Jazz    Rock    Jazz   \n",
       "Levels: Classic Jazz Pop Rock"
      ]
     },
     "metadata": {},
     "output_type": "display_data"
    },
    {
     "data": {
      "text/html": [
       "<ol class=list-inline>\n",
       "\t<li>'Classic'</li>\n",
       "\t<li>'Jazz'</li>\n",
       "\t<li>'Pop'</li>\n",
       "\t<li>'Rock'</li>\n",
       "</ol>\n"
      ],
      "text/latex": [
       "\\begin{enumerate*}\n",
       "\\item 'Classic'\n",
       "\\item 'Jazz'\n",
       "\\item 'Pop'\n",
       "\\item 'Rock'\n",
       "\\end{enumerate*}\n"
      ],
      "text/markdown": [
       "1. 'Classic'\n",
       "2. 'Jazz'\n",
       "3. 'Pop'\n",
       "4. 'Rock'\n",
       "\n",
       "\n"
      ],
      "text/plain": [
       "[1] \"Classic\" \"Jazz\"    \"Pop\"     \"Rock\"   "
      ]
     },
     "metadata": {},
     "output_type": "display_data"
    }
   ],
   "source": [
    "# FACTOR\n",
    "music_genre <- factor(c(\"Jazz\", \"Rock\", \"Classic\", \"Classic\", \"Pop\", \"Jazz\", \"Rock\", \"Jazz\"))\n",
    "music_genre\n",
    "levels(music_genre)"
   ]
  },
  {
   "cell_type": "code",
   "execution_count": 106,
   "id": "16b10a01-2e74-454b-8517-7616232b1ddb",
   "metadata": {},
   "outputs": [
    {
     "data": {
      "text/html": [
       "<ol class=list-inline>\n",
       "\t<li>'Classic'</li>\n",
       "\t<li>'Jazz'</li>\n",
       "\t<li>'Pop'</li>\n",
       "\t<li>'Rock'</li>\n",
       "\t<li>'Other'</li>\n",
       "</ol>\n"
      ],
      "text/latex": [
       "\\begin{enumerate*}\n",
       "\\item 'Classic'\n",
       "\\item 'Jazz'\n",
       "\\item 'Pop'\n",
       "\\item 'Rock'\n",
       "\\item 'Other'\n",
       "\\end{enumerate*}\n"
      ],
      "text/markdown": [
       "1. 'Classic'\n",
       "2. 'Jazz'\n",
       "3. 'Pop'\n",
       "4. 'Rock'\n",
       "5. 'Other'\n",
       "\n",
       "\n"
      ],
      "text/plain": [
       "[1] \"Classic\" \"Jazz\"    \"Pop\"     \"Rock\"    \"Other\"  "
      ]
     },
     "metadata": {},
     "output_type": "display_data"
    }
   ],
   "source": [
    "# Can also set the levels, by adding the levels argument inside the factor() function\n",
    "music_genre <- factor(c(\"Jazz\", \"Rock\", \"Classic\", \"Classic\", \"Pop\", \"Jazz\", \"Rock\", \"Jazz\"), levels = c(\"Classic\", \"Jazz\", \"Pop\", \"Rock\", \"Other\"))\n",
    "levels(music_genre)"
   ]
  },
  {
   "cell_type": "code",
   "execution_count": 108,
   "id": "98498443-61c6-4f02-b22f-71b19b04cc89",
   "metadata": {},
   "outputs": [
    {
     "data": {
      "text/html": [
       "8"
      ],
      "text/latex": [
       "8"
      ],
      "text/markdown": [
       "8"
      ],
      "text/plain": [
       "[1] 8"
      ]
     },
     "metadata": {},
     "output_type": "display_data"
    },
    {
     "data": {
      "text/html": [
       "Classic\n",
       "<details>\n",
       "\t<summary style=display:list-item;cursor:pointer>\n",
       "\t\t<strong>Levels</strong>:\n",
       "\t</summary>\n",
       "\t<ol class=list-inline>\n",
       "\t\t<li>'Classic'</li>\n",
       "\t\t<li>'Jazz'</li>\n",
       "\t\t<li>'Pop'</li>\n",
       "\t\t<li>'Rock'</li>\n",
       "\t\t<li>'Other'</li>\n",
       "\t</ol>\n",
       "</details>"
      ],
      "text/latex": [
       "Classic\n",
       "\\emph{Levels}: \\begin{enumerate*}\n",
       "\\item 'Classic'\n",
       "\\item 'Jazz'\n",
       "\\item 'Pop'\n",
       "\\item 'Rock'\n",
       "\\item 'Other'\n",
       "\\end{enumerate*}\n"
      ],
      "text/markdown": [
       "Classic\n",
       "**Levels**: 1. 'Classic'\n",
       "2. 'Jazz'\n",
       "3. 'Pop'\n",
       "4. 'Rock'\n",
       "5. 'Other'\n",
       "\n",
       "\n"
      ],
      "text/plain": [
       "[1] Classic\n",
       "Levels: Classic Jazz Pop Rock Other"
      ]
     },
     "metadata": {},
     "output_type": "display_data"
    }
   ],
   "source": [
    "# Length\n",
    "length(music_genre)\n",
    "# Access\n",
    "music_genre[3]"
   ]
  },
  {
   "cell_type": "code",
   "execution_count": 109,
   "id": "83d439ca-c72e-466a-9473-e974033c32ed",
   "metadata": {},
   "outputs": [
    {
     "data": {
      "text/html": [
       "Pop\n",
       "<details>\n",
       "\t<summary style=display:list-item;cursor:pointer>\n",
       "\t\t<strong>Levels</strong>:\n",
       "\t</summary>\n",
       "\t<ol class=list-inline>\n",
       "\t\t<li>'Classic'</li>\n",
       "\t\t<li>'Jazz'</li>\n",
       "\t\t<li>'Pop'</li>\n",
       "\t\t<li>'Rock'</li>\n",
       "\t\t<li>'Other'</li>\n",
       "\t</ol>\n",
       "</details>"
      ],
      "text/latex": [
       "Pop\n",
       "\\emph{Levels}: \\begin{enumerate*}\n",
       "\\item 'Classic'\n",
       "\\item 'Jazz'\n",
       "\\item 'Pop'\n",
       "\\item 'Rock'\n",
       "\\item 'Other'\n",
       "\\end{enumerate*}\n"
      ],
      "text/markdown": [
       "Pop\n",
       "**Levels**: 1. 'Classic'\n",
       "2. 'Jazz'\n",
       "3. 'Pop'\n",
       "4. 'Rock'\n",
       "5. 'Other'\n",
       "\n",
       "\n"
      ],
      "text/plain": [
       "[1] Pop\n",
       "Levels: Classic Jazz Pop Rock Other"
      ]
     },
     "metadata": {},
     "output_type": "display_data"
    }
   ],
   "source": [
    "# Change\n",
    "music_genre[2] <- \"Pop\"\n",
    "music_genre[2]"
   ]
  }
 ],
 "metadata": {
  "kernelspec": {
   "display_name": "R",
   "language": "R",
   "name": "ir"
  },
  "language_info": {
   "codemirror_mode": "r",
   "file_extension": ".r",
   "mimetype": "text/x-r-source",
   "name": "R",
   "pygments_lexer": "r",
   "version": "3.6.1"
  }
 },
 "nbformat": 4,
 "nbformat_minor": 5
}
