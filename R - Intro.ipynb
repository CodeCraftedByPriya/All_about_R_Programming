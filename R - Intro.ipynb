{
 "cells": [
  {
   "cell_type": "code",
   "execution_count": 1,
   "id": "a970791f-18ab-4042-9151-9350af312103",
   "metadata": {},
   "outputs": [
    {
     "data": {
      "text/html": [
       "'Hello World'"
      ],
      "text/latex": [
       "'Hello World'"
      ],
      "text/markdown": [
       "'Hello World'"
      ],
      "text/plain": [
       "[1] \"Hello World\""
      ]
     },
     "metadata": {},
     "output_type": "display_data"
    }
   ],
   "source": [
    "\"Hello World\""
   ]
  },
  {
   "cell_type": "code",
   "execution_count": 2,
   "id": "1c1b641a-f451-4a40-b5e8-71a00e3d3ca5",
   "metadata": {},
   "outputs": [
    {
     "data": {
      "text/html": [
       "13"
      ],
      "text/latex": [
       "13"
      ],
      "text/markdown": [
       "13"
      ],
      "text/plain": [
       "[1] 13"
      ]
     },
     "metadata": {},
     "output_type": "display_data"
    }
   ],
   "source": [
    "5+8"
   ]
  },
  {
   "cell_type": "code",
   "execution_count": 37,
   "id": "8e6c012a-4f6b-482d-8a83-b1488953bd96",
   "metadata": {},
   "outputs": [
    {
     "data": {
      "text/html": [
       "'Performing Operations'"
      ],
      "text/latex": [
       "'Performing Operations'"
      ],
      "text/markdown": [
       "'Performing Operations'"
      ],
      "text/plain": [
       "[1] \"Performing Operations\""
      ]
     },
     "metadata": {},
     "output_type": "display_data"
    },
    {
     "data": {
      "text/html": [
       "15"
      ],
      "text/latex": [
       "15"
      ],
      "text/markdown": [
       "15"
      ],
      "text/plain": [
       "[1] 15"
      ]
     },
     "metadata": {},
     "output_type": "display_data"
    },
    {
     "data": {
      "text/html": [
       "5"
      ],
      "text/latex": [
       "5"
      ],
      "text/markdown": [
       "5"
      ],
      "text/plain": [
       "[1] 5"
      ]
     },
     "metadata": {},
     "output_type": "display_data"
    },
    {
     "data": {
      "text/html": [
       "50"
      ],
      "text/latex": [
       "50"
      ],
      "text/markdown": [
       "50"
      ],
      "text/plain": [
       "[1] 50"
      ]
     },
     "metadata": {},
     "output_type": "display_data"
    },
    {
     "data": {
      "text/html": [
       "2"
      ],
      "text/latex": [
       "2"
      ],
      "text/markdown": [
       "2"
      ],
      "text/plain": [
       "[1] 2"
      ]
     },
     "metadata": {},
     "output_type": "display_data"
    },
    {
     "data": {
      "text/html": [
       "1e+05"
      ],
      "text/latex": [
       "1e+05"
      ],
      "text/markdown": [
       "1e+05"
      ],
      "text/plain": [
       "[1] 1e+05"
      ]
     },
     "metadata": {},
     "output_type": "display_data"
    },
    {
     "data": {
      "text/html": [
       "5"
      ],
      "text/latex": [
       "5"
      ],
      "text/markdown": [
       "5"
      ],
      "text/plain": [
       "[1] 5"
      ]
     },
     "metadata": {},
     "output_type": "display_data"
    },
    {
     "data": {
      "text/html": [
       "3"
      ],
      "text/latex": [
       "3"
      ],
      "text/markdown": [
       "3"
      ],
      "text/plain": [
       "[1] 3"
      ]
     },
     "metadata": {},
     "output_type": "display_data"
    }
   ],
   "source": [
    "# Assigning Variables\n",
    "x <- 10\n",
    "y <- 5\n",
    "x <<- 10\n",
    "5 -> y\n",
    "15 ->> z\n",
    "\"Performing Operations\"\n",
    "x+y\n",
    "x-y\n",
    "x*y\n",
    "x/y\n",
    "x^y\n",
    "z%%x             # Remainder ---------> % %\n",
    "z%/%y            # Integer Division ---> % / %"
   ]
  },
  {
   "cell_type": "code",
   "execution_count": 9,
   "id": "c614383d-11e6-48af-b52b-9c650a3b065f",
   "metadata": {},
   "outputs": [
    {
     "data": {
      "text/html": [
       "<span style=white-space:pre-wrap>'Value of X is =  10'</span>"
      ],
      "text/latex": [
       "'Value of X is =  10'"
      ],
      "text/markdown": [
       "<span style=white-space:pre-wrap>'Value of X is =  10'</span>"
      ],
      "text/plain": [
       "[1] \"Value of X is =  10\""
      ]
     },
     "metadata": {},
     "output_type": "display_data"
    },
    {
     "data": {
      "text/html": [
       "<span style=white-space:pre-wrap>'Welcome to  My Tutorial'</span>"
      ],
      "text/latex": [
       "'Welcome to  My Tutorial'"
      ],
      "text/markdown": [
       "<span style=white-space:pre-wrap>'Welcome to  My Tutorial'</span>"
      ],
      "text/plain": [
       "[1] \"Welcome to  My Tutorial\""
      ]
     },
     "metadata": {},
     "output_type": "display_data"
    }
   ],
   "source": [
    "# Concate\n",
    "paste(\"Value of X is = \", x)\n",
    "s1 <- 'Welcome to '\n",
    "s2 <- 'My Tutorial'\n",
    "paste(s1, s2)"
   ]
  },
  {
   "cell_type": "code",
   "execution_count": 11,
   "id": "b96dc4ac-93d5-48bb-a681-a858bba7a64d",
   "metadata": {},
   "outputs": [
    {
     "data": {
      "text/html": [
       "'Oranges'"
      ],
      "text/latex": [
       "'Oranges'"
      ],
      "text/markdown": [
       "'Oranges'"
      ],
      "text/plain": [
       "[1] \"Oranges\""
      ]
     },
     "metadata": {},
     "output_type": "display_data"
    },
    {
     "data": {
      "text/html": [
       "'Oranges'"
      ],
      "text/latex": [
       "'Oranges'"
      ],
      "text/markdown": [
       "'Oranges'"
      ],
      "text/plain": [
       "[1] \"Oranges\""
      ]
     },
     "metadata": {},
     "output_type": "display_data"
    },
    {
     "data": {
      "text/html": [
       "'Oranges'"
      ],
      "text/latex": [
       "'Oranges'"
      ],
      "text/markdown": [
       "'Oranges'"
      ],
      "text/plain": [
       "[1] \"Oranges\""
      ]
     },
     "metadata": {},
     "output_type": "display_data"
    }
   ],
   "source": [
    "# Assigning the same value to multiple variables\n",
    "f1 <- f2 <- f3 <- 'Oranges'\n",
    "f1\n",
    "f2\n",
    "f3"
   ]
  },
  {
   "cell_type": "code",
   "execution_count": 12,
   "id": "085df7df-c43f-42a8-8b77-673b6d286f29",
   "metadata": {},
   "outputs": [],
   "source": [
    "## NOTE:\n",
    "# Variables can start with a period (.) or with a letter nut not with (_) or with a number.\n",
    "# If it starts with a period (.), then it should be followed by a letter and not a number."
   ]
  },
  {
   "cell_type": "code",
   "execution_count": 17,
   "id": "32b06add-8a9b-4e82-83df-466aa4be71a5",
   "metadata": {},
   "outputs": [
    {
     "data": {
      "text/html": [
       "'numeric'"
      ],
      "text/latex": [
       "'numeric'"
      ],
      "text/markdown": [
       "'numeric'"
      ],
      "text/plain": [
       "[1] \"numeric\""
      ]
     },
     "metadata": {},
     "output_type": "display_data"
    },
    {
     "data": {
      "text/html": [
       "'numeric'"
      ],
      "text/latex": [
       "'numeric'"
      ],
      "text/markdown": [
       "'numeric'"
      ],
      "text/plain": [
       "[1] \"numeric\""
      ]
     },
     "metadata": {},
     "output_type": "display_data"
    },
    {
     "data": {
      "text/html": [
       "'character'"
      ],
      "text/latex": [
       "'character'"
      ],
      "text/markdown": [
       "'character'"
      ],
      "text/plain": [
       "[1] \"character\""
      ]
     },
     "metadata": {},
     "output_type": "display_data"
    },
    {
     "data": {
      "text/html": [
       "'integer'"
      ],
      "text/latex": [
       "'integer'"
      ],
      "text/markdown": [
       "'integer'"
      ],
      "text/plain": [
       "[1] \"integer\""
      ]
     },
     "metadata": {},
     "output_type": "display_data"
    },
    {
     "data": {
      "text/html": [
       "'complex'"
      ],
      "text/latex": [
       "'complex'"
      ],
      "text/markdown": [
       "'complex'"
      ],
      "text/plain": [
       "[1] \"complex\""
      ]
     },
     "metadata": {},
     "output_type": "display_data"
    },
    {
     "data": {
      "text/html": [
       "'logical'"
      ],
      "text/latex": [
       "'logical'"
      ],
      "text/markdown": [
       "'logical'"
      ],
      "text/plain": [
       "[1] \"logical\""
      ]
     },
     "metadata": {},
     "output_type": "display_data"
    }
   ],
   "source": [
    "# Data Types\n",
    "numeric.1 <- 15.4\n",
    "numeric <- 10\n",
    "character <- \"Priya\"\n",
    "integer <- 50L\n",
    "complex <- 9 + 5i\n",
    "logical <- TRUE     # The BOOL should be in All caps or else it will consider it as a string/character.\n",
    "\n",
    "class(numeric.1)\n",
    "class(numeric)\n",
    "class(character)\n",
    "class(integer)\n",
    "class(complex)\n",
    "class(logical)"
   ]
  },
  {
   "cell_type": "code",
   "execution_count": 19,
   "id": "acce2034-4e9c-45b0-9386-6ab5a81a6de1",
   "metadata": {},
   "outputs": [
    {
     "data": {
      "text/html": [
       "<span style=white-space:pre-wrap>'50 ,  10 ,  15.4+0i'</span>"
      ],
      "text/latex": [
       "'50 ,  10 ,  15.4+0i'"
      ],
      "text/markdown": [
       "<span style=white-space:pre-wrap>'50 ,  10 ,  15.4+0i'</span>"
      ],
      "text/plain": [
       "[1] \"50 ,  10 ,  15.4+0i\""
      ]
     },
     "metadata": {},
     "output_type": "display_data"
    },
    {
     "data": {
      "text/html": [
       "'numeric'"
      ],
      "text/latex": [
       "'numeric'"
      ],
      "text/markdown": [
       "'numeric'"
      ],
      "text/plain": [
       "[1] \"numeric\""
      ]
     },
     "metadata": {},
     "output_type": "display_data"
    },
    {
     "data": {
      "text/html": [
       "'integer'"
      ],
      "text/latex": [
       "'integer'"
      ],
      "text/markdown": [
       "'integer'"
      ],
      "text/plain": [
       "[1] \"integer\""
      ]
     },
     "metadata": {},
     "output_type": "display_data"
    },
    {
     "data": {
      "text/html": [
       "'complex'"
      ],
      "text/latex": [
       "'complex'"
      ],
      "text/markdown": [
       "'complex'"
      ],
      "text/plain": [
       "[1] \"complex\""
      ]
     },
     "metadata": {},
     "output_type": "display_data"
    }
   ],
   "source": [
    "# Type Conversion\n",
    "t1 <- as.numeric(integer)\n",
    "t2 <- as.integer(numeric)\n",
    "t3 <- as.complex(numeric.1)\n",
    "paste(t1, \", \", t2, \", \", t3)\n",
    "class(t1)\n",
    "class(t2)\n",
    "class(t3)"
   ]
  },
  {
   "cell_type": "code",
   "execution_count": 23,
   "id": "9e47c8f6-d80b-48f2-952d-7a172a5e5cd0",
   "metadata": {},
   "outputs": [
    {
     "data": {
      "text/html": [
       "15"
      ],
      "text/latex": [
       "15"
      ],
      "text/markdown": [
       "15"
      ],
      "text/plain": [
       "[1] 15"
      ]
     },
     "metadata": {},
     "output_type": "display_data"
    },
    {
     "data": {
      "text/html": [
       "0.5"
      ],
      "text/latex": [
       "0.5"
      ],
      "text/markdown": [
       "0.5"
      ],
      "text/plain": [
       "[1] 0.5"
      ]
     },
     "metadata": {},
     "output_type": "display_data"
    },
    {
     "data": {
      "text/html": [
       "5"
      ],
      "text/latex": [
       "5"
      ],
      "text/markdown": [
       "5"
      ],
      "text/plain": [
       "[1] 5"
      ]
     },
     "metadata": {},
     "output_type": "display_data"
    },
    {
     "data": {
      "text/html": [
       "7.8"
      ],
      "text/latex": [
       "7.8"
      ],
      "text/markdown": [
       "7.8"
      ],
      "text/plain": [
       "[1] 7.8"
      ]
     },
     "metadata": {},
     "output_type": "display_data"
    },
    {
     "data": {
      "text/html": [
       "3"
      ],
      "text/latex": [
       "3"
      ],
      "text/markdown": [
       "3"
      ],
      "text/plain": [
       "[1] 3"
      ]
     },
     "metadata": {},
     "output_type": "display_data"
    },
    {
     "data": {
      "text/html": [
       "4"
      ],
      "text/latex": [
       "4"
      ],
      "text/markdown": [
       "4"
      ],
      "text/plain": [
       "[1] 4"
      ]
     },
     "metadata": {},
     "output_type": "display_data"
    }
   ],
   "source": [
    "# Other functions\n",
    "max(5, 10, 15)\n",
    "min(5, 78, 0.5)\n",
    "sqrt(25)\n",
    "abs(-7.8)\n",
    "# Rounding up or down\n",
    "ceiling(2.3)\n",
    "floor(4.5)"
   ]
  },
  {
   "cell_type": "code",
   "execution_count": 25,
   "id": "3fd33161-c504-453c-9e85-0fe02a3496d9",
   "metadata": {},
   "outputs": [
    {
     "name": "stdout",
     "output_type": "stream",
     "text": [
      "This is a multi-line string,\n",
      "you can assign the value by using double quotes.\n",
      "So this is how it works..."
     ]
    }
   ],
   "source": [
    "# Multi-line string\n",
    "mstr <- \"This is a multi-line string,\n",
    "you can assign the value by using double quotes.\n",
    "So this is how it works...\"\n",
    "cat(mstr)"
   ]
  },
  {
   "cell_type": "code",
   "execution_count": 30,
   "id": "ab2dca04-8460-4664-9731-0293b52f3a06",
   "metadata": {},
   "outputs": [
    {
     "data": {
      "text/html": [
       "12"
      ],
      "text/latex": [
       "12"
      ],
      "text/markdown": [
       "12"
      ],
      "text/plain": [
       "[1] 12"
      ]
     },
     "metadata": {},
     "output_type": "display_data"
    },
    {
     "data": {
      "text/html": [
       "TRUE"
      ],
      "text/latex": [
       "TRUE"
      ],
      "text/markdown": [
       "TRUE"
      ],
      "text/plain": [
       "[1] TRUE"
      ]
     },
     "metadata": {},
     "output_type": "display_data"
    },
    {
     "data": {
      "text/html": [
       "FALSE"
      ],
      "text/latex": [
       "FALSE"
      ],
      "text/markdown": [
       "FALSE"
      ],
      "text/plain": [
       "[1] FALSE"
      ]
     },
     "metadata": {},
     "output_type": "display_data"
    }
   ],
   "source": [
    "# Length of the string\n",
    "str1 = \"Hello World!\"\n",
    "nchar(str1)\n",
    "grepl(\"H\", str1)\n",
    "grepl(\"X\", str1)"
   ]
  },
  {
   "cell_type": "code",
   "execution_count": 32,
   "id": "c5d067b6-cdeb-48a7-9769-27b5a1b3dbf6",
   "metadata": {},
   "outputs": [
    {
     "data": {
      "text/html": [
       "'Hello World! ---&gt; This is a \"String\".'"
      ],
      "text/latex": [
       "'Hello World! ---> This is a \"String\".'"
      ],
      "text/markdown": [
       "'Hello World! ---&gt; This is a \"String\".'"
      ],
      "text/plain": [
       "[1] \"Hello World! ---> This is a \\\"String\\\".\""
      ]
     },
     "metadata": {},
     "output_type": "display_data"
    }
   ],
   "source": [
    "# Escape Char\n",
    "\"Hello World! ---> This is a \\\"String\\\".\"\n",
    "# \\\\\tBackslash\n",
    "# \\n\tNew Line\n",
    "# \\r\tCarriage Return\n",
    "# \\t\tTab\n",
    "# \\b\tBackspace"
   ]
  },
  {
   "cell_type": "code",
   "execution_count": 38,
   "id": "41d172c0-7977-487e-9aba-31cf3d42b882",
   "metadata": {},
   "outputs": [
    {
     "data": {
      "text/html": [
       "<span style=white-space:pre-wrap>'33  is lesser than  200'</span>"
      ],
      "text/latex": [
       "'33  is lesser than  200'"
      ],
      "text/markdown": [
       "<span style=white-space:pre-wrap>'33  is lesser than  200'</span>"
      ],
      "text/plain": [
       "[1] \"33  is lesser than  200\""
      ]
     },
     "metadata": {},
     "output_type": "display_data"
    }
   ],
   "source": [
    "# Logical or Booleans\n",
    "a <- 200\n",
    "b <- 33\n",
    "\n",
    "if (b > a) {\n",
    "  paste(b, \" is greater than \", a)\n",
    "} else {\n",
    "  paste(b, \" is lesser than \", a)\n",
    "}\n",
    "\n",
    "# &\tElement-wise Logical AND operator. It returns TRUE if both elements are TRUE\n",
    "# &&\tLogical AND operator - Returns TRUE if both statements are TRUE\n",
    "# |\tElementwise- Logical OR operator. It returns TRUE if one of the statements is TRUE\n",
    "# ||\tLogical OR operator. It returns TRUE if one of the statements is TRUE.\n",
    "# !\tLogical NOT - returns FALSE if statement is TRUE"
   ]
  },
  {
   "cell_type": "code",
   "execution_count": 44,
   "id": "0fb6af2d-ff5f-453d-a46c-190b5fd36a17",
   "metadata": {},
   "outputs": [
    {
     "data": {
      "text/html": [
       "'33 and 33 are equal'"
      ],
      "text/latex": [
       "'33 and 33 are equal'"
      ],
      "text/markdown": [
       "'33 and 33 are equal'"
      ],
      "text/plain": [
       "[1] \"33 and 33 are equal\""
      ]
     },
     "metadata": {},
     "output_type": "display_data"
    },
    {
     "data": {
      "text/html": [
       "'Another example'"
      ],
      "text/latex": [
       "'Another example'"
      ],
      "text/markdown": [
       "'Another example'"
      ],
      "text/plain": [
       "[1] \"Another example\""
      ]
     },
     "metadata": {},
     "output_type": "display_data"
    },
    {
     "name": "stdout",
     "output_type": "stream",
     "text": [
      "[1] \"Above ten\"\n",
      "[1] \"and also above 20!\"\n"
     ]
    }
   ],
   "source": [
    "# nested if\n",
    "a <- 33\n",
    "b <- 33\n",
    "\n",
    "if (b > a) {\n",
    "  paste(b, \"is greater than\", a)\n",
    "} else if (a == b) {\n",
    "  paste(b, \"and\", a, \"are equal\")\n",
    "} else {\n",
    "  paste(b, \"is lesser than\", a)\n",
    "}\n",
    "\n",
    "\"Another example\"\n",
    "x <- 41\n",
    "\n",
    "if (x > 10) {\n",
    "  print(\"Above ten\")\n",
    "  if (x > 20) {\n",
    "    print(\"and also above 20!\")\n",
    "  } else {\n",
    "    print(\"but not above 20.\")\n",
    "  }\n",
    "} else {\n",
    "  print(\"below 10.\")\n",
    "}"
   ]
  },
  {
   "cell_type": "code",
   "execution_count": 46,
   "id": "ff2c34de-f774-444e-8f29-82a9c4277907",
   "metadata": {},
   "outputs": [
    {
     "data": {
      "text/html": [
       "'500 is greater than 200 and 33'"
      ],
      "text/latex": [
       "'500 is greater than 200 and 33'"
      ],
      "text/markdown": [
       "'500 is greater than 200 and 33'"
      ],
      "text/plain": [
       "[1] \"500 is greater than 200 and 33\""
      ]
     },
     "metadata": {},
     "output_type": "display_data"
    }
   ],
   "source": [
    "# AND Operator\n",
    "a <- 200\n",
    "b <- 33\n",
    "c <- 500\n",
    "\n",
    "if (a > b & a > c) {\n",
    "  paste(a, \"is greater than\", b, \"and\", c)\n",
    "} else if (b > a & b > c) {\n",
    "    paste(b, \"is greater than\", a, \"and\", c)\n",
    "} else {\n",
    "    paste(c, \"is greater than\", a, \"and\", b)\n",
    "}"
   ]
  },
  {
   "cell_type": "code",
   "execution_count": 49,
   "id": "c6ea4220-2587-4446-8859-5442a604eb03",
   "metadata": {},
   "outputs": [
    {
     "name": "stdout",
     "output_type": "stream",
     "text": [
      "[1] \"At least one of the conditions is true\"\n"
     ]
    }
   ],
   "source": [
    "# OR Operator\n",
    "a <- 200\n",
    "b <- 33\n",
    "c <- 500\n",
    "\n",
    "if (a > b | a > c) {\n",
    "  print(\"At least one of the conditions is true\")\n",
    "}"
   ]
  },
  {
   "cell_type": "code",
   "execution_count": 59,
   "id": "4edd6c14-d3dd-4236-bed9-6d65c4b5d420",
   "metadata": {},
   "outputs": [
    {
     "name": "stdout",
     "output_type": "stream",
     "text": [
      "[1] 5\n",
      "[1] 6\n",
      "[1] 7\n",
      "[1] 8\n",
      "[1] 9\n"
     ]
    }
   ],
   "source": [
    "# While Loop\n",
    "i <- 5\n",
    "while (i < 10) {\n",
    "    print(i)\n",
    "    i <- i + 1\n",
    "}"
   ]
  },
  {
   "cell_type": "code",
   "execution_count": 62,
   "id": "7c28060c-e4af-4c3b-b677-d805cdfd0448",
   "metadata": {},
   "outputs": [
    {
     "name": "stdout",
     "output_type": "stream",
     "text": [
      "[1] 50\n",
      "[1] 51\n",
      "[1] 52\n",
      "[1] 53\n",
      "[1] 54\n",
      "[1] 55\n",
      "[1] 56\n"
     ]
    }
   ],
   "source": [
    "# with break\n",
    "i <- 50\n",
    "while (i > 10) {\n",
    "    print(i)\n",
    "    i <- i + 1\n",
    "    if (i == 57) {\n",
    "        break\n",
    "    }\n",
    "}"
   ]
  },
  {
   "cell_type": "code",
   "execution_count": 64,
   "id": "4df03ba3-d9df-4c31-b260-86cc88a0cfdc",
   "metadata": {},
   "outputs": [
    {
     "name": "stdout",
     "output_type": "stream",
     "text": [
      "[1] 2\n",
      "[1] 3\n",
      "[1] 5\n",
      "[1] 6\n",
      "[1] 7\n",
      "[1] 8\n",
      "[1] 9\n",
      "[1] 10\n"
     ]
    }
   ],
   "source": [
    "# With NEXT\n",
    "i <- 1\n",
    "while (i < 10) {\n",
    "    i <- i + 1\n",
    "    if (i == 4) {\n",
    "        next\n",
    "    }\n",
    "    print(i)\n",
    "}"
   ]
  },
  {
   "cell_type": "code",
   "execution_count": 66,
   "id": "cd5ed1c7-48a5-4ec2-bf42-b73fa1e5c2b0",
   "metadata": {},
   "outputs": [
    {
     "name": "stdout",
     "output_type": "stream",
     "text": [
      "[1] \"No Yahtzee\"\n",
      "[1] \"No Yahtzee\"\n",
      "[1] \"No Yahtzee\"\n",
      "[1] \"No Yahtzee\"\n",
      "[1] \"No Yahtzee\"\n",
      "[1] \"Yahtzee!\"\n"
     ]
    }
   ],
   "source": [
    "# Example\n",
    "dice <- 1\n",
    "while (dice <= 6) {\n",
    "  if (dice < 6) {\n",
    "    print(\"No Yahtzee\")\n",
    "  } else {\n",
    "    print(\"Yahtzee!\")\n",
    "  }\n",
    "  dice <- dice + 1\n",
    "}"
   ]
  },
  {
   "cell_type": "code",
   "execution_count": 68,
   "id": "ddc929a7-fe79-4c04-9cc7-5089d523bf6e",
   "metadata": {},
   "outputs": [
    {
     "name": "stdout",
     "output_type": "stream",
     "text": [
      "[1] 1\n",
      "[1] 2\n",
      "[1] 3\n",
      "[1] 4\n",
      "[1] 5\n"
     ]
    }
   ],
   "source": [
    "# FOR LOOP\n",
    "# instead of range like pythin we use (x in 1:5)\n",
    "for (x in 1:5) {\n",
    "  print(x)\n",
    "}"
   ]
  },
  {
   "cell_type": "code",
   "execution_count": 71,
   "id": "0610c448-9b2e-4b83-a7ec-af20d08bc229",
   "metadata": {},
   "outputs": [
    {
     "name": "stdout",
     "output_type": "stream",
     "text": [
      "[1] \"apple\"\n",
      "[1] \"cherry\"\n"
     ]
    }
   ],
   "source": [
    "fruits <- list(\"apple\", \"banana\", \"cherry\", \"Oranges\", \"Pears\", \"Kiwi\")\n",
    "\n",
    "for (x in fruits) {\n",
    "    if (x == \"banana\") {\n",
    "        next\n",
    "    } \n",
    "    if (x == \"Oranges\") {\n",
    "        break\n",
    "    }\n",
    "    print(x)\n",
    "}"
   ]
  },
  {
   "cell_type": "code",
   "execution_count": 72,
   "id": "92b82293-5dc6-492a-8d53-ab0857b76bfa",
   "metadata": {},
   "outputs": [
    {
     "name": "stdout",
     "output_type": "stream",
     "text": [
      "[1] \"red apple\"\n",
      "[1] \"red banana\"\n",
      "[1] \"red cherry\"\n",
      "[1] \"big apple\"\n",
      "[1] \"big banana\"\n",
      "[1] \"big cherry\"\n",
      "[1] \"tasty apple\"\n",
      "[1] \"tasty banana\"\n",
      "[1] \"tasty cherry\"\n"
     ]
    }
   ],
   "source": [
    "adj <- list(\"red\", \"big\", \"tasty\")\n",
    "\n",
    "fruits <- list(\"apple\", \"banana\", \"cherry\")\n",
    "  for (x in adj) {\n",
    "    for (y in fruits) {\n",
    "      print(paste(x, y))\n",
    "  }\n",
    "}"
   ]
  },
  {
   "cell_type": "code",
   "execution_count": 73,
   "id": "b937c38f-d9ef-4958-9435-7d39a87b622f",
   "metadata": {},
   "outputs": [
    {
     "data": {
      "text/html": [
       "'Peter Griffin'"
      ],
      "text/latex": [
       "'Peter Griffin'"
      ],
      "text/markdown": [
       "'Peter Griffin'"
      ],
      "text/plain": [
       "[1] \"Peter Griffin\""
      ]
     },
     "metadata": {},
     "output_type": "display_data"
    },
    {
     "data": {
      "text/html": [
       "'Lois Griffin'"
      ],
      "text/latex": [
       "'Lois Griffin'"
      ],
      "text/markdown": [
       "'Lois Griffin'"
      ],
      "text/plain": [
       "[1] \"Lois Griffin\""
      ]
     },
     "metadata": {},
     "output_type": "display_data"
    },
    {
     "data": {
      "text/html": [
       "'Stewie Griffin'"
      ],
      "text/latex": [
       "'Stewie Griffin'"
      ],
      "text/markdown": [
       "'Stewie Griffin'"
      ],
      "text/plain": [
       "[1] \"Stewie Griffin\""
      ]
     },
     "metadata": {},
     "output_type": "display_data"
    }
   ],
   "source": [
    "# Functions\n",
    "my_function <- function(fname) {\n",
    "  paste(fname, \"Griffin\")\n",
    "}\n",
    "\n",
    "my_function(\"Peter\")\n",
    "my_function(\"Lois\")\n",
    "my_function(\"Stewie\")"
   ]
  },
  {
   "cell_type": "code",
   "execution_count": 74,
   "id": "9bea8a81-7809-4045-8868-1f3c2221b4d7",
   "metadata": {},
   "outputs": [
    {
     "data": {
      "text/html": [
       "'I am from Sweden'"
      ],
      "text/latex": [
       "'I am from Sweden'"
      ],
      "text/markdown": [
       "'I am from Sweden'"
      ],
      "text/plain": [
       "[1] \"I am from Sweden\""
      ]
     },
     "metadata": {},
     "output_type": "display_data"
    },
    {
     "data": {
      "text/html": [
       "'I am from India'"
      ],
      "text/latex": [
       "'I am from India'"
      ],
      "text/markdown": [
       "'I am from India'"
      ],
      "text/plain": [
       "[1] \"I am from India\""
      ]
     },
     "metadata": {},
     "output_type": "display_data"
    },
    {
     "data": {
      "text/html": [
       "'I am from Norway'"
      ],
      "text/latex": [
       "'I am from Norway'"
      ],
      "text/markdown": [
       "'I am from Norway'"
      ],
      "text/plain": [
       "[1] \"I am from Norway\""
      ]
     },
     "metadata": {},
     "output_type": "display_data"
    },
    {
     "data": {
      "text/html": [
       "'I am from USA'"
      ],
      "text/latex": [
       "'I am from USA'"
      ],
      "text/markdown": [
       "'I am from USA'"
      ],
      "text/plain": [
       "[1] \"I am from USA\""
      ]
     },
     "metadata": {},
     "output_type": "display_data"
    }
   ],
   "source": [
    "# Default Parameter Value\n",
    "my_function <- function(country = \"Norway\") {\n",
    "  paste(\"I am from\", country)\n",
    "}\n",
    "\n",
    "my_function(\"Sweden\")\n",
    "my_function(\"India\")\n",
    "my_function() # will get the default value, which is Norway\n",
    "my_function(\"USA\")"
   ]
  },
  {
   "cell_type": "code",
   "execution_count": 75,
   "id": "12d9d982-f64f-4972-ac1c-6e30be25cff4",
   "metadata": {},
   "outputs": [
    {
     "name": "stdout",
     "output_type": "stream",
     "text": [
      "[1] 15\n"
     ]
    }
   ],
   "source": [
    "my_function <- function(x) {\n",
    "  return (5 * x)\n",
    "}\n",
    "\n",
    "print(my_function(3))"
   ]
  },
  {
   "cell_type": "code",
   "execution_count": 76,
   "id": "528cea87-a9d1-470e-ae1d-7692b0a96a18",
   "metadata": {},
   "outputs": [
    {
     "data": {
      "text/html": [
       "10"
      ],
      "text/latex": [
       "10"
      ],
      "text/markdown": [
       "10"
      ],
      "text/plain": [
       "[1] 10"
      ]
     },
     "metadata": {},
     "output_type": "display_data"
    }
   ],
   "source": [
    "# Nested functions\n",
    "Nested_function <- function(x, y) {\n",
    "  a <- x + y\n",
    "  return(a)\n",
    "}\n",
    "\n",
    "Nested_function(Nested_function(2,2), Nested_function(3,3))"
   ]
  },
  {
   "cell_type": "code",
   "execution_count": 77,
   "id": "e213a6b1-5e0f-4227-9aae-c5d320aff741",
   "metadata": {},
   "outputs": [
    {
     "data": {
      "text/html": [
       "8"
      ],
      "text/latex": [
       "8"
      ],
      "text/markdown": [
       "8"
      ],
      "text/plain": [
       "[1] 8"
      ]
     },
     "metadata": {},
     "output_type": "display_data"
    }
   ],
   "source": [
    "Outer_func <- function(x) {\n",
    "  Inner_func <- function(y) {\n",
    "    a <- x + y\n",
    "    return(a)\n",
    "  }\n",
    "  return (Inner_func)\n",
    "}\n",
    "output <- Outer_func(3) # To call the Outer_func\n",
    "output(5)"
   ]
  },
  {
   "cell_type": "code",
   "execution_count": 78,
   "id": "2c2843eb-de21-40cf-9570-a2d8e0d6f9e3",
   "metadata": {},
   "outputs": [
    {
     "name": "stdout",
     "output_type": "stream",
     "text": [
      "[1] 1\n",
      "[1] 3\n",
      "[1] 6\n",
      "[1] 10\n",
      "[1] 15\n",
      "[1] 21\n"
     ]
    }
   ],
   "source": [
    "# Recursions\n",
    "tri_recursion <- function(k) {\n",
    "  if (k > 0) {\n",
    "    result <- k + tri_recursion(k - 1)\n",
    "    print(result)\n",
    "  } else {\n",
    "    result = 0\n",
    "    return(result)\n",
    "  }\n",
    "}\n",
    "tri_recursion(6)"
   ]
  },
  {
   "cell_type": "code",
   "execution_count": 79,
   "id": "0ee898d5-5e35-432e-b7f1-8b11afdcb072",
   "metadata": {},
   "outputs": [
    {
     "data": {
      "text/html": [
       "'R is fantastic'"
      ],
      "text/latex": [
       "'R is fantastic'"
      ],
      "text/markdown": [
       "'R is fantastic'"
      ],
      "text/plain": [
       "[1] \"R is fantastic\""
      ]
     },
     "metadata": {},
     "output_type": "display_data"
    },
    {
     "name": "stdout",
     "output_type": "stream",
     "text": [
      "[1] \"fantastic\"\n"
     ]
    }
   ],
   "source": [
    "# If you use the assignment operator <<-, the variable belongs to the global scope:\n",
    "\n",
    "my_function <- function() {\n",
    "txt <<- \"fantastic\"\n",
    "  paste(\"R is\", txt)\n",
    "}\n",
    "\n",
    "my_function()\n",
    "\n",
    "print(txt)"
   ]
  },
  {
   "cell_type": "code",
   "execution_count": 80,
   "id": "4a83bbe2-8bdd-4f2c-9a3a-07f73ac2f3f3",
   "metadata": {},
   "outputs": [
    {
     "data": {
      "text/html": [
       "'R is fantastic'"
      ],
      "text/latex": [
       "'R is fantastic'"
      ],
      "text/markdown": [
       "'R is fantastic'"
      ],
      "text/plain": [
       "[1] \"R is fantastic\""
      ]
     },
     "metadata": {},
     "output_type": "display_data"
    },
    {
     "data": {
      "text/html": [
       "'R is fantastic'"
      ],
      "text/latex": [
       "'R is fantastic'"
      ],
      "text/markdown": [
       "'R is fantastic'"
      ],
      "text/plain": [
       "[1] \"R is fantastic\""
      ]
     },
     "metadata": {},
     "output_type": "display_data"
    }
   ],
   "source": [
    "# To change the value of a global variable inside a function, refer to the variable by using the global assignment operator <<-:\n",
    "txt <- \"awesome\"\n",
    "my_function <- function() {\n",
    "  txt <<- \"fantastic\"\n",
    "  paste(\"R is\", txt)\n",
    "}\n",
    "\n",
    "my_function()\n",
    "\n",
    "paste(\"R is\", txt)"
   ]
  },
  {
   "cell_type": "code",
   "execution_count": 5,
   "id": "44bdb516-8301-4187-81cb-839fe5aa6a89",
   "metadata": {},
   "outputs": [
    {
     "data": {
      "text/html": [
       "'Vector 1'"
      ],
      "text/latex": [
       "'Vector 1'"
      ],
      "text/markdown": [
       "'Vector 1'"
      ],
      "text/plain": [
       "[1] \"Vector 1\""
      ]
     },
     "metadata": {},
     "output_type": "display_data"
    },
    {
     "data": {
      "text/html": [
       "<ol class=list-inline>\n",
       "\t<li>'Apple'</li>\n",
       "\t<li>'Banana'</li>\n",
       "\t<li>'Cherry'</li>\n",
       "</ol>\n"
      ],
      "text/latex": [
       "\\begin{enumerate*}\n",
       "\\item 'Apple'\n",
       "\\item 'Banana'\n",
       "\\item 'Cherry'\n",
       "\\end{enumerate*}\n"
      ],
      "text/markdown": [
       "1. 'Apple'\n",
       "2. 'Banana'\n",
       "3. 'Cherry'\n",
       "\n",
       "\n"
      ],
      "text/plain": [
       "[1] \"Apple\"  \"Banana\" \"Cherry\""
      ]
     },
     "metadata": {},
     "output_type": "display_data"
    },
    {
     "data": {
      "text/html": [
       "'Vector 2'"
      ],
      "text/latex": [
       "'Vector 2'"
      ],
      "text/markdown": [
       "'Vector 2'"
      ],
      "text/plain": [
       "[1] \"Vector 2\""
      ]
     },
     "metadata": {},
     "output_type": "display_data"
    },
    {
     "data": {
      "text/html": [
       "<ol class=list-inline>\n",
       "\t<li>14</li>\n",
       "\t<li>12</li>\n",
       "\t<li>15.2</li>\n",
       "</ol>\n"
      ],
      "text/latex": [
       "\\begin{enumerate*}\n",
       "\\item 14\n",
       "\\item 12\n",
       "\\item 15.2\n",
       "\\end{enumerate*}\n"
      ],
      "text/markdown": [
       "1. 14\n",
       "2. 12\n",
       "3. 15.2\n",
       "\n",
       "\n"
      ],
      "text/plain": [
       "[1] 14.0 12.0 15.2"
      ]
     },
     "metadata": {},
     "output_type": "display_data"
    },
    {
     "data": {
      "text/html": [
       "'Vector 3'"
      ],
      "text/latex": [
       "'Vector 3'"
      ],
      "text/markdown": [
       "'Vector 3'"
      ],
      "text/plain": [
       "[1] \"Vector 3\""
      ]
     },
     "metadata": {},
     "output_type": "display_data"
    },
    {
     "data": {
      "text/html": [
       "<ol class=list-inline>\n",
       "\t<li>1</li>\n",
       "\t<li>2</li>\n",
       "\t<li>3</li>\n",
       "\t<li>4</li>\n",
       "\t<li>5</li>\n",
       "\t<li>6</li>\n",
       "\t<li>7</li>\n",
       "\t<li>8</li>\n",
       "\t<li>9</li>\n",
       "\t<li>10</li>\n",
       "\t<li>11</li>\n",
       "\t<li>12</li>\n",
       "\t<li>13</li>\n",
       "\t<li>14</li>\n",
       "\t<li>15</li>\n",
       "</ol>\n"
      ],
      "text/latex": [
       "\\begin{enumerate*}\n",
       "\\item 1\n",
       "\\item 2\n",
       "\\item 3\n",
       "\\item 4\n",
       "\\item 5\n",
       "\\item 6\n",
       "\\item 7\n",
       "\\item 8\n",
       "\\item 9\n",
       "\\item 10\n",
       "\\item 11\n",
       "\\item 12\n",
       "\\item 13\n",
       "\\item 14\n",
       "\\item 15\n",
       "\\end{enumerate*}\n"
      ],
      "text/markdown": [
       "1. 1\n",
       "2. 2\n",
       "3. 3\n",
       "4. 4\n",
       "5. 5\n",
       "6. 6\n",
       "7. 7\n",
       "8. 8\n",
       "9. 9\n",
       "10. 10\n",
       "11. 11\n",
       "12. 12\n",
       "13. 13\n",
       "14. 14\n",
       "15. 15\n",
       "\n",
       "\n"
      ],
      "text/plain": [
       " [1]  1  2  3  4  5  6  7  8  9 10 11 12 13 14 15"
      ]
     },
     "metadata": {},
     "output_type": "display_data"
    },
    {
     "data": {
      "text/html": [
       "'Vector 4'"
      ],
      "text/latex": [
       "'Vector 4'"
      ],
      "text/markdown": [
       "'Vector 4'"
      ],
      "text/plain": [
       "[1] \"Vector 4\""
      ]
     },
     "metadata": {},
     "output_type": "display_data"
    },
    {
     "data": {
      "text/html": [
       "<ol class=list-inline>\n",
       "\t<li>1.5</li>\n",
       "\t<li>2.5</li>\n",
       "\t<li>3.5</li>\n",
       "\t<li>4.5</li>\n",
       "\t<li>5.5</li>\n",
       "</ol>\n"
      ],
      "text/latex": [
       "\\begin{enumerate*}\n",
       "\\item 1.5\n",
       "\\item 2.5\n",
       "\\item 3.5\n",
       "\\item 4.5\n",
       "\\item 5.5\n",
       "\\end{enumerate*}\n"
      ],
      "text/markdown": [
       "1. 1.5\n",
       "2. 2.5\n",
       "3. 3.5\n",
       "4. 4.5\n",
       "5. 5.5\n",
       "\n",
       "\n"
      ],
      "text/plain": [
       "[1] 1.5 2.5 3.5 4.5 5.5"
      ]
     },
     "metadata": {},
     "output_type": "display_data"
    }
   ],
   "source": [
    "# Vectors\n",
    "vec1 <- c(\"Apple\", \"Banana\", \"Cherry\")\n",
    "vec2 <- c(14, 12, 15.2)\n",
    "vec3 <- 1:15\n",
    "vec4 <- 1.5:6.4\n",
    "'Vector 1'\n",
    "vec1\n",
    "'Vector 2'\n",
    "vec2\n",
    "'Vector 3'\n",
    "vec3\n",
    "'Vector 4'\n",
    "vec4"
   ]
  },
  {
   "cell_type": "code",
   "execution_count": 6,
   "id": "293c5548-4a23-4c0f-ba11-6b6e40b19568",
   "metadata": {},
   "outputs": [
    {
     "data": {
      "text/html": [
       "<ol class=list-inline>\n",
       "\t<li>TRUE</li>\n",
       "\t<li>FALSE</li>\n",
       "\t<li>TRUE</li>\n",
       "\t<li>FALSE</li>\n",
       "</ol>\n"
      ],
      "text/latex": [
       "\\begin{enumerate*}\n",
       "\\item TRUE\n",
       "\\item FALSE\n",
       "\\item TRUE\n",
       "\\item FALSE\n",
       "\\end{enumerate*}\n"
      ],
      "text/markdown": [
       "1. TRUE\n",
       "2. FALSE\n",
       "3. TRUE\n",
       "4. FALSE\n",
       "\n",
       "\n"
      ],
      "text/plain": [
       "[1]  TRUE FALSE  TRUE FALSE"
      ]
     },
     "metadata": {},
     "output_type": "display_data"
    }
   ],
   "source": [
    "# Vector of logical values\n",
    "log_values <- c(TRUE, FALSE, TRUE, FALSE)\n",
    "\n",
    "log_values"
   ]
  },
  {
   "cell_type": "code",
   "execution_count": null,
   "id": "dff4ea49-7c0d-4c24-82e1-1c7b2ef2b68d",
   "metadata": {},
   "outputs": [],
   "source": [
    "# Properties of  Vectors\n"
   ]
  }
 ],
 "metadata": {
  "kernelspec": {
   "display_name": "R",
   "language": "R",
   "name": "ir"
  },
  "language_info": {
   "codemirror_mode": "r",
   "file_extension": ".r",
   "mimetype": "text/x-r-source",
   "name": "R",
   "pygments_lexer": "r",
   "version": "3.6.1"
  }
 },
 "nbformat": 4,
 "nbformat_minor": 5
}
